{
 "cells": [
  {
   "cell_type": "markdown",
   "metadata": {},
   "source": [
    "# NUMPY -Numerical Python\n",
    "# SCIPY - Scientific Python"
   ]
  },
  {
   "cell_type": "markdown",
   "metadata": {},
   "source": [
    "## Problems like\n",
    "## 1. Arrays\n",
    "## 2. matrices\n",
    "## 3. Integration\n",
    "## 4. Differential Equations\n",
    "## 5. Statistics"
   ]
  },
  {
   "cell_type": "markdown",
   "metadata": {},
   "source": [
    "### *basically Python is not having any fundamental buit-ins to solve these type of problems so we use Numpy library "
   ]
  },
  {
   "cell_type": "markdown",
   "metadata": {},
   "source": [
    "### *Scipy is built on numpy framework to solve advanced mathematical caluclations"
   ]
  },
  {
   "cell_type": "markdown",
   "metadata": {},
   "source": [
    "## ** ARRAYS: Genererally Array means Arraning things in a particular way. In programming Array means collection of elements of same Data-type. Array is also a Data Structure.\n",
    "\n",
    "### in Python we can store store data in many formats like lists,dicts,Arrays.\n",
    "### * Arrays are same as list where we can do indexing,slicing, but the only difference is here store the values of same data-type where as in list we can store values of any data-type."
   ]
  },
  {
   "cell_type": "markdown",
   "metadata": {},
   "source": [
    "### * In Numpy-Array we can do some  mathematical caluclations where as in list we cannot and more over to create a list we dont need any libraries but to create a numpy array we need numpy library. "
   ]
  },
  {
   "cell_type": "markdown",
   "metadata": {},
   "source": [
    "### * numpy arrays occupy very less-space and also work very fast when compared to lists."
   ]
  },
  {
   "cell_type": "markdown",
   "metadata": {},
   "source": [
    "## * In Numpy we can have Arrays of any dimension (1D,2D,3D,.......)"
   ]
  },
  {
   "cell_type": "code",
   "execution_count": 2,
   "metadata": {},
   "outputs": [],
   "source": [
    "import numpy as np"
   ]
  },
  {
   "cell_type": "code",
   "execution_count": 3,
   "metadata": {},
   "outputs": [],
   "source": [
    "a=np.array([1,2,3,4])"
   ]
  },
  {
   "cell_type": "code",
   "execution_count": 4,
   "metadata": {},
   "outputs": [
    {
     "data": {
      "text/plain": [
       "array([1, 2, 3, 4])"
      ]
     },
     "execution_count": 4,
     "metadata": {},
     "output_type": "execute_result"
    }
   ],
   "source": [
    "a"
   ]
  },
  {
   "cell_type": "code",
   "execution_count": 5,
   "metadata": {},
   "outputs": [],
   "source": [
    "b=np.array([1,2,3,4], dtype=\"complex\")"
   ]
  },
  {
   "cell_type": "code",
   "execution_count": 6,
   "metadata": {},
   "outputs": [
    {
     "data": {
      "text/plain": [
       "array([1.+0.j, 2.+0.j, 3.+0.j, 4.+0.j])"
      ]
     },
     "execution_count": 6,
     "metadata": {},
     "output_type": "execute_result"
    }
   ],
   "source": [
    "b"
   ]
  },
  {
   "cell_type": "code",
   "execution_count": 7,
   "metadata": {},
   "outputs": [],
   "source": [
    "c=np.array([1,2,3,4],dtype=\"float\")"
   ]
  },
  {
   "cell_type": "code",
   "execution_count": 8,
   "metadata": {},
   "outputs": [
    {
     "data": {
      "text/plain": [
       "array([1., 2., 3., 4.])"
      ]
     },
     "execution_count": 8,
     "metadata": {},
     "output_type": "execute_result"
    }
   ],
   "source": [
    "c"
   ]
  },
  {
   "cell_type": "code",
   "execution_count": 9,
   "metadata": {},
   "outputs": [],
   "source": [
    "cd=a+b+c"
   ]
  },
  {
   "cell_type": "code",
   "execution_count": 10,
   "metadata": {},
   "outputs": [
    {
     "data": {
      "text/plain": [
       "array([ 3.+0.j,  6.+0.j,  9.+0.j, 12.+0.j])"
      ]
     },
     "execution_count": 10,
     "metadata": {},
     "output_type": "execute_result"
    }
   ],
   "source": [
    "cd"
   ]
  },
  {
   "cell_type": "code",
   "execution_count": 11,
   "metadata": {},
   "outputs": [
    {
     "ename": "TypeError",
     "evalue": "only size-1 arrays can be converted to Python scalars",
     "output_type": "error",
     "traceback": [
      "\u001b[1;31m---------------------------------------------------------------------------\u001b[0m",
      "\u001b[1;31mTypeError\u001b[0m                                 Traceback (most recent call last)",
      "\u001b[1;32m<ipython-input-11-d4d1e3bfd679>\u001b[0m in \u001b[0;36m<module>\u001b[1;34m\u001b[0m\n\u001b[1;32m----> 1\u001b[1;33m \u001b[0mb2\u001b[0m\u001b[1;33m=\u001b[0m\u001b[0mint\u001b[0m\u001b[1;33m(\u001b[0m\u001b[0mb\u001b[0m\u001b[1;33m)\u001b[0m\u001b[1;33m\u001b[0m\u001b[1;33m\u001b[0m\u001b[0m\n\u001b[0m",
      "\u001b[1;31mTypeError\u001b[0m: only size-1 arrays can be converted to Python scalars"
     ]
    }
   ],
   "source": [
    "b2=int(b)"
   ]
  },
  {
   "cell_type": "markdown",
   "metadata": {},
   "source": [
    "## * we can convert the elements in to any dtype while creating an array but after creating we cant convert into another dtype"
   ]
  },
  {
   "cell_type": "code",
   "execution_count": 17,
   "metadata": {},
   "outputs": [],
   "source": [
    "tup=np.array((1,2,3,4),\"complex\")"
   ]
  },
  {
   "cell_type": "code",
   "execution_count": 18,
   "metadata": {},
   "outputs": [
    {
     "data": {
      "text/plain": [
       "array([1.+0.j, 2.+0.j, 3.+0.j, 4.+0.j])"
      ]
     },
     "execution_count": 18,
     "metadata": {},
     "output_type": "execute_result"
    }
   ],
   "source": [
    "tup"
   ]
  },
  {
   "cell_type": "markdown",
   "metadata": {},
   "source": [
    "### * we can create an array by using tuple also"
   ]
  },
  {
   "cell_type": "markdown",
   "metadata": {},
   "source": [
    "## * Numpy Array consists of many function\n",
    "## 1.range function\n",
    "## 2. linspace function\n",
    "## 3.Zeros Function\n",
    "## 4.ones Function\n",
    "## 5.Eye Function\n",
    "## 6.Random Function"
   ]
  },
  {
   "cell_type": "markdown",
   "metadata": {},
   "source": [
    "# RANGE FUNCTION"
   ]
  },
  {
   "cell_type": "markdown",
   "metadata": {},
   "source": [
    "### * It is an Array that creates evenly spaced numeric  values"
   ]
  },
  {
   "cell_type": "code",
   "execution_count": 19,
   "metadata": {},
   "outputs": [],
   "source": [
    "r1=np.arange(1,10,1)"
   ]
  },
  {
   "cell_type": "code",
   "execution_count": 20,
   "metadata": {},
   "outputs": [
    {
     "data": {
      "text/plain": [
       "array([1, 2, 3, 4, 5, 6, 7, 8, 9])"
      ]
     },
     "execution_count": 20,
     "metadata": {},
     "output_type": "execute_result"
    }
   ],
   "source": [
    "r1"
   ]
  },
  {
   "cell_type": "code",
   "execution_count": 23,
   "metadata": {},
   "outputs": [],
   "source": [
    "r2=np.arange(2,50,5, dtype=\"complex\")"
   ]
  },
  {
   "cell_type": "code",
   "execution_count": 24,
   "metadata": {},
   "outputs": [
    {
     "data": {
      "text/plain": [
       "array([ 2.+0.j,  7.+0.j, 12.+0.j, 17.+0.j, 22.+0.j, 27.+0.j, 32.+0.j,\n",
       "       37.+0.j, 42.+0.j, 47.+0.j])"
      ]
     },
     "execution_count": 24,
     "metadata": {},
     "output_type": "execute_result"
    }
   ],
   "source": [
    "r2"
   ]
  },
  {
   "cell_type": "code",
   "execution_count": 25,
   "metadata": {},
   "outputs": [],
   "source": [
    "r3=np.arange(15)"
   ]
  },
  {
   "cell_type": "code",
   "execution_count": 26,
   "metadata": {},
   "outputs": [
    {
     "data": {
      "text/plain": [
       "array([ 0,  1,  2,  3,  4,  5,  6,  7,  8,  9, 10, 11, 12, 13, 14])"
      ]
     },
     "execution_count": 26,
     "metadata": {},
     "output_type": "execute_result"
    }
   ],
   "source": [
    "r3"
   ]
  },
  {
   "cell_type": "code",
   "execution_count": 27,
   "metadata": {},
   "outputs": [],
   "source": [
    "r4=np.arange(1,10,1,\"complex\")"
   ]
  },
  {
   "cell_type": "code",
   "execution_count": 28,
   "metadata": {},
   "outputs": [
    {
     "data": {
      "text/plain": [
       "array([1.+0.j, 2.+0.j, 3.+0.j, 4.+0.j, 5.+0.j, 6.+0.j, 7.+0.j, 8.+0.j,\n",
       "       9.+0.j])"
      ]
     },
     "execution_count": 28,
     "metadata": {},
     "output_type": "execute_result"
    }
   ],
   "source": [
    "r4"
   ]
  },
  {
   "cell_type": "code",
   "execution_count": 29,
   "metadata": {},
   "outputs": [],
   "source": [
    "r5=np.arange(1.0,10.0,1.0)"
   ]
  },
  {
   "cell_type": "code",
   "execution_count": 30,
   "metadata": {},
   "outputs": [
    {
     "data": {
      "text/plain": [
       "array([1., 2., 3., 4., 5., 6., 7., 8., 9.])"
      ]
     },
     "execution_count": 30,
     "metadata": {},
     "output_type": "execute_result"
    }
   ],
   "source": [
    "r5"
   ]
  },
  {
   "cell_type": "markdown",
   "metadata": {},
   "source": [
    "# ZEROS FUNCTION"
   ]
  },
  {
   "cell_type": "code",
   "execution_count": 37,
   "metadata": {},
   "outputs": [],
   "source": [
    "z1=np.zeros((5,5))"
   ]
  },
  {
   "cell_type": "code",
   "execution_count": 38,
   "metadata": {},
   "outputs": [
    {
     "data": {
      "text/plain": [
       "array([[0., 0., 0., 0., 0.],\n",
       "       [0., 0., 0., 0., 0.],\n",
       "       [0., 0., 0., 0., 0.],\n",
       "       [0., 0., 0., 0., 0.],\n",
       "       [0., 0., 0., 0., 0.]])"
      ]
     },
     "execution_count": 38,
     "metadata": {},
     "output_type": "execute_result"
    }
   ],
   "source": [
    "z1"
   ]
  },
  {
   "cell_type": "code",
   "execution_count": 51,
   "metadata": {},
   "outputs": [
    {
     "name": "stderr",
     "output_type": "stream",
     "text": [
      "C:\\Users\\Hp\\anaconda3\\lib\\site-packages\\ipykernel_launcher.py:1: DeprecationWarning: Non-string object detected for the array ordering. Please pass in 'C', 'F', 'A', or 'K' instead\n",
      "  \"\"\"Entry point for launching an IPython kernel.\n"
     ]
    }
   ],
   "source": [
    "z2=np.zeros((3,3),\"complex\",order={\"F\"})"
   ]
  },
  {
   "cell_type": "code",
   "execution_count": 52,
   "metadata": {},
   "outputs": [
    {
     "data": {
      "text/plain": [
       "array([[0.+0.j, 0.+0.j, 0.+0.j],\n",
       "       [0.+0.j, 0.+0.j, 0.+0.j],\n",
       "       [0.+0.j, 0.+0.j, 0.+0.j]])"
      ]
     },
     "execution_count": 52,
     "metadata": {},
     "output_type": "execute_result"
    }
   ],
   "source": [
    "z2"
   ]
  },
  {
   "cell_type": "code",
   "execution_count": 55,
   "metadata": {},
   "outputs": [],
   "source": [
    "z3=np.zeros(5)"
   ]
  },
  {
   "cell_type": "code",
   "execution_count": 56,
   "metadata": {},
   "outputs": [
    {
     "data": {
      "text/plain": [
       "array([0., 0., 0., 0., 0.])"
      ]
     },
     "execution_count": 56,
     "metadata": {},
     "output_type": "execute_result"
    }
   ],
   "source": [
    "z3"
   ]
  },
  {
   "cell_type": "markdown",
   "metadata": {},
   "source": [
    "# ONES FUNCTION"
   ]
  },
  {
   "cell_type": "code",
   "execution_count": 57,
   "metadata": {},
   "outputs": [],
   "source": [
    "z1=np.ones(5)"
   ]
  },
  {
   "cell_type": "code",
   "execution_count": 58,
   "metadata": {},
   "outputs": [
    {
     "data": {
      "text/plain": [
       "array([1., 1., 1., 1., 1.])"
      ]
     },
     "execution_count": 58,
     "metadata": {},
     "output_type": "execute_result"
    }
   ],
   "source": [
    "z1"
   ]
  },
  {
   "cell_type": "code",
   "execution_count": 59,
   "metadata": {},
   "outputs": [],
   "source": [
    "z2=np.ones([5,5],dtype=\"complex\")"
   ]
  },
  {
   "cell_type": "code",
   "execution_count": 60,
   "metadata": {},
   "outputs": [
    {
     "data": {
      "text/plain": [
       "array([[1.+0.j, 1.+0.j, 1.+0.j, 1.+0.j, 1.+0.j],\n",
       "       [1.+0.j, 1.+0.j, 1.+0.j, 1.+0.j, 1.+0.j],\n",
       "       [1.+0.j, 1.+0.j, 1.+0.j, 1.+0.j, 1.+0.j],\n",
       "       [1.+0.j, 1.+0.j, 1.+0.j, 1.+0.j, 1.+0.j],\n",
       "       [1.+0.j, 1.+0.j, 1.+0.j, 1.+0.j, 1.+0.j]])"
      ]
     },
     "execution_count": 60,
     "metadata": {},
     "output_type": "execute_result"
    }
   ],
   "source": [
    "z2"
   ]
  },
  {
   "cell_type": "markdown",
   "metadata": {},
   "source": [
    "# LINSPACE FUNCTION"
   ]
  },
  {
   "cell_type": "markdown",
   "metadata": {},
   "source": [
    "### *Here we are getting values of even space with in a given range and how many elements we required\n",
    "### * here stop value is also included"
   ]
  },
  {
   "cell_type": "code",
   "execution_count": 61,
   "metadata": {},
   "outputs": [],
   "source": [
    "l1=np.linspace(1,10,100)"
   ]
  },
  {
   "cell_type": "code",
   "execution_count": 62,
   "metadata": {},
   "outputs": [
    {
     "data": {
      "text/plain": [
       "array([ 1.        ,  1.09090909,  1.18181818,  1.27272727,  1.36363636,\n",
       "        1.45454545,  1.54545455,  1.63636364,  1.72727273,  1.81818182,\n",
       "        1.90909091,  2.        ,  2.09090909,  2.18181818,  2.27272727,\n",
       "        2.36363636,  2.45454545,  2.54545455,  2.63636364,  2.72727273,\n",
       "        2.81818182,  2.90909091,  3.        ,  3.09090909,  3.18181818,\n",
       "        3.27272727,  3.36363636,  3.45454545,  3.54545455,  3.63636364,\n",
       "        3.72727273,  3.81818182,  3.90909091,  4.        ,  4.09090909,\n",
       "        4.18181818,  4.27272727,  4.36363636,  4.45454545,  4.54545455,\n",
       "        4.63636364,  4.72727273,  4.81818182,  4.90909091,  5.        ,\n",
       "        5.09090909,  5.18181818,  5.27272727,  5.36363636,  5.45454545,\n",
       "        5.54545455,  5.63636364,  5.72727273,  5.81818182,  5.90909091,\n",
       "        6.        ,  6.09090909,  6.18181818,  6.27272727,  6.36363636,\n",
       "        6.45454545,  6.54545455,  6.63636364,  6.72727273,  6.81818182,\n",
       "        6.90909091,  7.        ,  7.09090909,  7.18181818,  7.27272727,\n",
       "        7.36363636,  7.45454545,  7.54545455,  7.63636364,  7.72727273,\n",
       "        7.81818182,  7.90909091,  8.        ,  8.09090909,  8.18181818,\n",
       "        8.27272727,  8.36363636,  8.45454545,  8.54545455,  8.63636364,\n",
       "        8.72727273,  8.81818182,  8.90909091,  9.        ,  9.09090909,\n",
       "        9.18181818,  9.27272727,  9.36363636,  9.45454545,  9.54545455,\n",
       "        9.63636364,  9.72727273,  9.81818182,  9.90909091, 10.        ])"
      ]
     },
     "execution_count": 62,
     "metadata": {},
     "output_type": "execute_result"
    }
   ],
   "source": [
    "l1"
   ]
  },
  {
   "cell_type": "markdown",
   "metadata": {},
   "source": [
    "### \"retstep\" will give us the step difference between 2 numbers\n",
    "### we can also give endpoint=\"False\" it will consider last number\n",
    "### num default value is 50 so we can get 50 values without mentioning."
   ]
  },
  {
   "cell_type": "code",
   "execution_count": 70,
   "metadata": {},
   "outputs": [],
   "source": [
    "l2=np.linspace(1,10,dtype=\"complex\",retstep=\"True\")"
   ]
  },
  {
   "cell_type": "code",
   "execution_count": 71,
   "metadata": {},
   "outputs": [
    {
     "data": {
      "text/plain": [
       "(array([ 1.        +0.j,  1.18367347+0.j,  1.36734694+0.j,  1.55102041+0.j,\n",
       "         1.73469388+0.j,  1.91836735+0.j,  2.10204082+0.j,  2.28571429+0.j,\n",
       "         2.46938776+0.j,  2.65306122+0.j,  2.83673469+0.j,  3.02040816+0.j,\n",
       "         3.20408163+0.j,  3.3877551 +0.j,  3.57142857+0.j,  3.75510204+0.j,\n",
       "         3.93877551+0.j,  4.12244898+0.j,  4.30612245+0.j,  4.48979592+0.j,\n",
       "         4.67346939+0.j,  4.85714286+0.j,  5.04081633+0.j,  5.2244898 +0.j,\n",
       "         5.40816327+0.j,  5.59183673+0.j,  5.7755102 +0.j,  5.95918367+0.j,\n",
       "         6.14285714+0.j,  6.32653061+0.j,  6.51020408+0.j,  6.69387755+0.j,\n",
       "         6.87755102+0.j,  7.06122449+0.j,  7.24489796+0.j,  7.42857143+0.j,\n",
       "         7.6122449 +0.j,  7.79591837+0.j,  7.97959184+0.j,  8.16326531+0.j,\n",
       "         8.34693878+0.j,  8.53061224+0.j,  8.71428571+0.j,  8.89795918+0.j,\n",
       "         9.08163265+0.j,  9.26530612+0.j,  9.44897959+0.j,  9.63265306+0.j,\n",
       "         9.81632653+0.j, 10.        +0.j]),\n",
       " 0.1836734693877551)"
      ]
     },
     "execution_count": 71,
     "metadata": {},
     "output_type": "execute_result"
    }
   ],
   "source": [
    "l2"
   ]
  },
  {
   "cell_type": "markdown",
   "metadata": {},
   "source": [
    "# EYE FUNCTION"
   ]
  },
  {
   "cell_type": "markdown",
   "metadata": {},
   "source": [
    "##  It will return all values to zero except the kth diagonal and we can select that kth  and in that diagonal all values will be 1"
   ]
  },
  {
   "cell_type": "code",
   "execution_count": 72,
   "metadata": {},
   "outputs": [],
   "source": [
    "e1=np.eye(5,5,2)"
   ]
  },
  {
   "cell_type": "code",
   "execution_count": 73,
   "metadata": {},
   "outputs": [
    {
     "data": {
      "text/plain": [
       "array([[0., 0., 1., 0., 0.],\n",
       "       [0., 0., 0., 1., 0.],\n",
       "       [0., 0., 0., 0., 1.],\n",
       "       [0., 0., 0., 0., 0.],\n",
       "       [0., 0., 0., 0., 0.]])"
      ]
     },
     "execution_count": 73,
     "metadata": {},
     "output_type": "execute_result"
    }
   ],
   "source": [
    "e1"
   ]
  },
  {
   "cell_type": "code",
   "execution_count": 76,
   "metadata": {},
   "outputs": [],
   "source": [
    "e2=np.eye(6,6,0,\"int\")"
   ]
  },
  {
   "cell_type": "code",
   "execution_count": 77,
   "metadata": {},
   "outputs": [
    {
     "data": {
      "text/plain": [
       "array([[1, 0, 0, 0, 0, 0],\n",
       "       [0, 1, 0, 0, 0, 0],\n",
       "       [0, 0, 1, 0, 0, 0],\n",
       "       [0, 0, 0, 1, 0, 0],\n",
       "       [0, 0, 0, 0, 1, 0],\n",
       "       [0, 0, 0, 0, 0, 1]])"
      ]
     },
     "execution_count": 77,
     "metadata": {},
     "output_type": "execute_result"
    }
   ],
   "source": [
    "e2"
   ]
  },
  {
   "cell_type": "markdown",
   "metadata": {},
   "source": [
    "## for all the functions we can mention \"ORDER\" that means in which way to store in our memory, we are having 2 memories C and F \n",
    "## C means row memory\n",
    "## F means column memory"
   ]
  },
  {
   "cell_type": "code",
   "execution_count": 82,
   "metadata": {},
   "outputs": [],
   "source": [
    "e3=np.eye(5,5,-1,\"complex\")"
   ]
  },
  {
   "cell_type": "markdown",
   "metadata": {},
   "source": [
    "### we can give k value also as -1"
   ]
  },
  {
   "cell_type": "code",
   "execution_count": 83,
   "metadata": {},
   "outputs": [
    {
     "data": {
      "text/plain": [
       "array([[0.+0.j, 0.+0.j, 0.+0.j, 0.+0.j, 0.+0.j],\n",
       "       [1.+0.j, 0.+0.j, 0.+0.j, 0.+0.j, 0.+0.j],\n",
       "       [0.+0.j, 1.+0.j, 0.+0.j, 0.+0.j, 0.+0.j],\n",
       "       [0.+0.j, 0.+0.j, 1.+0.j, 0.+0.j, 0.+0.j],\n",
       "       [0.+0.j, 0.+0.j, 0.+0.j, 1.+0.j, 0.+0.j]])"
      ]
     },
     "execution_count": 83,
     "metadata": {},
     "output_type": "execute_result"
    }
   ],
   "source": [
    "e3"
   ]
  },
  {
   "cell_type": "markdown",
   "metadata": {},
   "source": [
    "# RANDOM FUNCTION"
   ]
  },
  {
   "cell_type": "markdown",
   "metadata": {},
   "source": [
    "## \"rand\" will give the uniformly distributed matrix with  values ranging from 0 and 1"
   ]
  },
  {
   "cell_type": "code",
   "execution_count": 84,
   "metadata": {},
   "outputs": [],
   "source": [
    "r1=np.random.rand(3,5)"
   ]
  },
  {
   "cell_type": "code",
   "execution_count": 85,
   "metadata": {},
   "outputs": [
    {
     "data": {
      "text/plain": [
       "array([[0.80075061, 0.44115863, 0.65973008, 0.55529387, 0.63770496],\n",
       "       [0.45843945, 0.02893885, 0.69740905, 0.06069099, 0.92521406],\n",
       "       [0.11095024, 0.09453027, 0.6532718 , 0.45621618, 0.10812215]])"
      ]
     },
     "execution_count": 85,
     "metadata": {},
     "output_type": "execute_result"
    }
   ],
   "source": [
    "r1"
   ]
  },
  {
   "cell_type": "markdown",
   "metadata": {},
   "source": [
    "## \"randn\" it will give the normally distributed matrix with values ranges between -1 and 1"
   ]
  },
  {
   "cell_type": "code",
   "execution_count": 86,
   "metadata": {},
   "outputs": [
    {
     "data": {
      "text/plain": [
       "array([[-0.3943094 , -0.70382708,  0.28260935, -0.76045226,  0.31805033],\n",
       "       [ 1.08710219,  0.28550189, -1.24663563,  0.67903634, -0.65668816],\n",
       "       [ 0.16825694,  0.48224996,  1.38956032,  0.72511437, -0.43713522]])"
      ]
     },
     "execution_count": 86,
     "metadata": {},
     "output_type": "execute_result"
    }
   ],
   "source": [
    "np.random.randn(3,5)"
   ]
  },
  {
   "cell_type": "markdown",
   "metadata": {},
   "source": [
    "## \"ranf\" will give us uniformly distributed floating values and matrix of given shape (uniform distribution means values will be between 0 and 1"
   ]
  },
  {
   "cell_type": "code",
   "execution_count": 105,
   "metadata": {},
   "outputs": [
    {
     "data": {
      "text/plain": [
       "array([0.00465623, 0.86495737, 0.48051545, 0.4673714 , 0.94912001])"
      ]
     },
     "execution_count": 105,
     "metadata": {},
     "output_type": "execute_result"
    }
   ],
   "source": [
    "np.random.ranf((5,))"
   ]
  },
  {
   "cell_type": "code",
   "execution_count": 110,
   "metadata": {},
   "outputs": [],
   "source": [
    "a=np.random.ranf((3,3))"
   ]
  },
  {
   "cell_type": "code",
   "execution_count": 111,
   "metadata": {},
   "outputs": [
    {
     "data": {
      "text/plain": [
       "array([[0.01689178, 0.46937024, 0.18720897],\n",
       "       [0.92863107, 0.13092081, 0.95696087],\n",
       "       [0.651939  , 0.12199532, 0.61433444]])"
      ]
     },
     "execution_count": 111,
     "metadata": {},
     "output_type": "execute_result"
    }
   ],
   "source": [
    "a"
   ]
  },
  {
   "cell_type": "markdown",
   "metadata": {},
   "source": [
    "## \"randint\" will give the uniformly distributed integer values  and matrix between given range and how many number of integers we want and size of the matrix required."
   ]
  },
  {
   "cell_type": "code",
   "execution_count": 107,
   "metadata": {},
   "outputs": [
    {
     "data": {
      "text/plain": [
       "array([3, 4, 4, 3, 3, 4, 3, 4, 4, 3])"
      ]
     },
     "execution_count": 107,
     "metadata": {},
     "output_type": "execute_result"
    }
   ],
   "source": [
    "np.random.randint(3,5,10)"
   ]
  },
  {
   "cell_type": "code",
   "execution_count": 108,
   "metadata": {},
   "outputs": [
    {
     "data": {
      "text/plain": [
       "array([[5, 5, 2],\n",
       "       [5, 0, 0]])"
      ]
     },
     "execution_count": 108,
     "metadata": {},
     "output_type": "execute_result"
    }
   ],
   "source": [
    "np.random.randint(low=6,size=(2,3))"
   ]
  },
  {
   "cell_type": "markdown",
   "metadata": {},
   "source": [
    "# DIMENSION of the array"
   ]
  },
  {
   "cell_type": "code",
   "execution_count": 114,
   "metadata": {},
   "outputs": [],
   "source": [
    "a=np.array([1,2,3])"
   ]
  },
  {
   "cell_type": "code",
   "execution_count": 115,
   "metadata": {},
   "outputs": [
    {
     "data": {
      "text/plain": [
       "1"
      ]
     },
     "execution_count": 115,
     "metadata": {},
     "output_type": "execute_result"
    }
   ],
   "source": [
    "a.ndim"
   ]
  },
  {
   "cell_type": "code",
   "execution_count": 120,
   "metadata": {},
   "outputs": [],
   "source": [
    "b=np.array([[1,2,3],[4,5,6]])"
   ]
  },
  {
   "cell_type": "code",
   "execution_count": 121,
   "metadata": {},
   "outputs": [
    {
     "data": {
      "text/plain": [
       "array([[1, 2, 3],\n",
       "       [4, 5, 6]])"
      ]
     },
     "execution_count": 121,
     "metadata": {},
     "output_type": "execute_result"
    }
   ],
   "source": [
    "b"
   ]
  },
  {
   "cell_type": "code",
   "execution_count": 122,
   "metadata": {},
   "outputs": [
    {
     "data": {
      "text/plain": [
       "2"
      ]
     },
     "execution_count": 122,
     "metadata": {},
     "output_type": "execute_result"
    }
   ],
   "source": [
    "b.ndim"
   ]
  },
  {
   "cell_type": "code",
   "execution_count": 125,
   "metadata": {},
   "outputs": [
    {
     "data": {
      "text/plain": [
       "(2, 3)"
      ]
     },
     "execution_count": 125,
     "metadata": {},
     "output_type": "execute_result"
    }
   ],
   "source": [
    "b.shape"
   ]
  },
  {
   "cell_type": "code",
   "execution_count": 133,
   "metadata": {},
   "outputs": [],
   "source": [
    "c=np.zeros((2,3,5))"
   ]
  },
  {
   "cell_type": "code",
   "execution_count": 134,
   "metadata": {},
   "outputs": [
    {
     "data": {
      "text/plain": [
       "array([[[0., 0., 0., 0., 0.],\n",
       "        [0., 0., 0., 0., 0.],\n",
       "        [0., 0., 0., 0., 0.]],\n",
       "\n",
       "       [[0., 0., 0., 0., 0.],\n",
       "        [0., 0., 0., 0., 0.],\n",
       "        [0., 0., 0., 0., 0.]]])"
      ]
     },
     "execution_count": 134,
     "metadata": {},
     "output_type": "execute_result"
    }
   ],
   "source": [
    "c"
   ]
  },
  {
   "cell_type": "markdown",
   "metadata": {},
   "source": [
    "# dimension,shape,size,data-type,item-size"
   ]
  },
  {
   "cell_type": "code",
   "execution_count": 135,
   "metadata": {},
   "outputs": [
    {
     "data": {
      "text/plain": [
       "3"
      ]
     },
     "execution_count": 135,
     "metadata": {},
     "output_type": "execute_result"
    }
   ],
   "source": [
    "c.ndim"
   ]
  },
  {
   "cell_type": "code",
   "execution_count": 136,
   "metadata": {},
   "outputs": [
    {
     "data": {
      "text/plain": [
       "(2, 3, 5)"
      ]
     },
     "execution_count": 136,
     "metadata": {},
     "output_type": "execute_result"
    }
   ],
   "source": [
    "c.shape"
   ]
  },
  {
   "cell_type": "code",
   "execution_count": 137,
   "metadata": {},
   "outputs": [
    {
     "data": {
      "text/plain": [
       "30"
      ]
     },
     "execution_count": 137,
     "metadata": {},
     "output_type": "execute_result"
    }
   ],
   "source": [
    "c.size"
   ]
  },
  {
   "cell_type": "code",
   "execution_count": 139,
   "metadata": {},
   "outputs": [
    {
     "data": {
      "text/plain": [
       "dtype('float64')"
      ]
     },
     "execution_count": 139,
     "metadata": {},
     "output_type": "execute_result"
    }
   ],
   "source": [
    "c.dtype"
   ]
  },
  {
   "cell_type": "code",
   "execution_count": 141,
   "metadata": {},
   "outputs": [
    {
     "data": {
      "text/plain": [
       "8"
      ]
     },
     "execution_count": 141,
     "metadata": {},
     "output_type": "execute_result"
    }
   ],
   "source": [
    "c.itemsize       # each element will take 4 bytes of data"
   ]
  },
  {
   "cell_type": "markdown",
   "metadata": {},
   "source": [
    "# DATA TYPES"
   ]
  },
  {
   "cell_type": "markdown",
   "metadata": {},
   "source": [
    "## 1.int\n",
    "## 2.float\n",
    "## 3.object\n",
    "## 4.bool\n",
    "## 5.complex\n"
   ]
  },
  {
   "cell_type": "markdown",
   "metadata": {},
   "source": [
    "### int 64  it is a 8 byte integer (1 byte=8 bits) consists of both -ve and +ve values.\n",
    "### uint64 it is a un-signed integer, it does not have any -ve values."
   ]
  },
  {
   "cell_type": "code",
   "execution_count": 142,
   "metadata": {},
   "outputs": [],
   "source": [
    "a=np.zeros(5)"
   ]
  },
  {
   "cell_type": "code",
   "execution_count": 148,
   "metadata": {},
   "outputs": [
    {
     "data": {
      "text/plain": [
       "1"
      ]
     },
     "execution_count": 148,
     "metadata": {},
     "output_type": "execute_result"
    }
   ],
   "source": [
    "a.itemsize"
   ]
  },
  {
   "cell_type": "code",
   "execution_count": 144,
   "metadata": {},
   "outputs": [
    {
     "data": {
      "text/plain": [
       "dtype('float64')"
      ]
     },
     "execution_count": 144,
     "metadata": {},
     "output_type": "execute_result"
    }
   ],
   "source": [
    "a.dtype"
   ]
  },
  {
   "cell_type": "code",
   "execution_count": 154,
   "metadata": {},
   "outputs": [],
   "source": [
    "a=np.zeros(5,dtype=\"complex\")"
   ]
  },
  {
   "cell_type": "code",
   "execution_count": 162,
   "metadata": {},
   "outputs": [
    {
     "data": {
      "text/plain": [
       "array([0.+0.j, 0.+0.j, 0.+0.j, 0.+0.j, 0.+0.j])"
      ]
     },
     "execution_count": 162,
     "metadata": {},
     "output_type": "execute_result"
    }
   ],
   "source": [
    "a"
   ]
  },
  {
   "cell_type": "code",
   "execution_count": 163,
   "metadata": {},
   "outputs": [
    {
     "data": {
      "text/plain": [
       "array(['0j', '0j', '0j', '0j', '0j'], dtype='<U64')"
      ]
     },
     "execution_count": 163,
     "metadata": {},
     "output_type": "execute_result"
    }
   ],
   "source": [
    "a.astype(\"str\")"
   ]
  },
  {
   "cell_type": "code",
   "execution_count": 164,
   "metadata": {},
   "outputs": [
    {
     "name": "stderr",
     "output_type": "stream",
     "text": [
      "C:\\Users\\Hp\\anaconda3\\lib\\site-packages\\ipykernel_launcher.py:1: ComplexWarning: Casting complex values to real discards the imaginary part\n",
      "  \"\"\"Entry point for launching an IPython kernel.\n"
     ]
    },
    {
     "data": {
      "text/plain": [
       "array([0, 0, 0, 0, 0])"
      ]
     },
     "execution_count": 164,
     "metadata": {},
     "output_type": "execute_result"
    }
   ],
   "source": [
    "a.astype(\"int\")"
   ]
  },
  {
   "cell_type": "code",
   "execution_count": 165,
   "metadata": {},
   "outputs": [
    {
     "data": {
      "text/plain": [
       "array([False, False, False, False, False])"
      ]
     },
     "execution_count": 165,
     "metadata": {},
     "output_type": "execute_result"
    }
   ],
   "source": [
    "a.astype(\"bool\")"
   ]
  },
  {
   "cell_type": "code",
   "execution_count": 153,
   "metadata": {},
   "outputs": [
    {
     "data": {
      "text/plain": [
       "1"
      ]
     },
     "execution_count": 153,
     "metadata": {},
     "output_type": "execute_result"
    }
   ],
   "source": [
    "a.itemsize"
   ]
  },
  {
   "cell_type": "code",
   "execution_count": 169,
   "metadata": {},
   "outputs": [],
   "source": [
    "b=np.random.randint(3,9,size=(3,3))"
   ]
  },
  {
   "cell_type": "code",
   "execution_count": 170,
   "metadata": {},
   "outputs": [
    {
     "data": {
      "text/plain": [
       "array([[8, 5, 8],\n",
       "       [4, 3, 3],\n",
       "       [6, 4, 5]])"
      ]
     },
     "execution_count": 170,
     "metadata": {},
     "output_type": "execute_result"
    }
   ],
   "source": [
    "b"
   ]
  },
  {
   "cell_type": "code",
   "execution_count": 171,
   "metadata": {},
   "outputs": [
    {
     "data": {
      "text/plain": [
       "array([[8., 5., 8.],\n",
       "       [4., 3., 3.],\n",
       "       [6., 4., 5.]])"
      ]
     },
     "execution_count": 171,
     "metadata": {},
     "output_type": "execute_result"
    }
   ],
   "source": [
    "b.astype(\"float\")"
   ]
  },
  {
   "cell_type": "code",
   "execution_count": 172,
   "metadata": {},
   "outputs": [
    {
     "data": {
      "text/plain": [
       "array([[8.+0.j, 5.+0.j, 8.+0.j],\n",
       "       [4.+0.j, 3.+0.j, 3.+0.j],\n",
       "       [6.+0.j, 4.+0.j, 5.+0.j]])"
      ]
     },
     "execution_count": 172,
     "metadata": {},
     "output_type": "execute_result"
    }
   ],
   "source": [
    "b.astype(\"complex\")"
   ]
  },
  {
   "cell_type": "code",
   "execution_count": 173,
   "metadata": {},
   "outputs": [
    {
     "data": {
      "text/plain": [
       "array([[ True,  True,  True],\n",
       "       [ True,  True,  True],\n",
       "       [ True,  True,  True]])"
      ]
     },
     "execution_count": 173,
     "metadata": {},
     "output_type": "execute_result"
    }
   ],
   "source": [
    "b.astype(\"bool\")"
   ]
  },
  {
   "cell_type": "code",
   "execution_count": 175,
   "metadata": {},
   "outputs": [
    {
     "data": {
      "text/plain": [
       "array([[0.30770788, 0.90457161, 0.11699426, 0.81771639, 0.02328138],\n",
       "       [0.96679079, 0.51304589, 0.17047305, 0.36143672, 0.17708212],\n",
       "       [0.55089251, 0.68849223, 0.65270263, 0.11837743, 0.88069557]])"
      ]
     },
     "execution_count": 175,
     "metadata": {},
     "output_type": "execute_result"
    }
   ],
   "source": [
    "np.random.rand(3,5)"
   ]
  },
  {
   "cell_type": "code",
   "execution_count": 176,
   "metadata": {},
   "outputs": [
    {
     "data": {
      "text/plain": [
       "array([[ 0.86301461, -0.34149634,  0.84434208,  0.2850942 ,  1.40480869],\n",
       "       [ 1.07227367, -0.16965067, -0.39581436,  0.39541961, -0.59253   ],\n",
       "       [-1.88291052, -0.72058168,  0.19444946,  1.26903199,  0.05428235]])"
      ]
     },
     "execution_count": 176,
     "metadata": {},
     "output_type": "execute_result"
    }
   ],
   "source": [
    "np.random.randn(3,5)"
   ]
  },
  {
   "cell_type": "code",
   "execution_count": 180,
   "metadata": {},
   "outputs": [
    {
     "data": {
      "text/plain": [
       "array([[[0.05812475, 0.90232299, 0.57659731, 0.37891976, 0.2492294 ],\n",
       "        [0.28330888, 0.17460252, 0.28034873, 0.27064861, 0.60891613],\n",
       "        [0.01640044, 0.23788841, 0.49655142, 0.31501719, 0.06192355],\n",
       "        [0.29240456, 0.47360614, 0.11083126, 0.87761767, 0.22265394],\n",
       "        [0.9505678 , 0.65660342, 0.18842202, 0.16963791, 0.53432904]],\n",
       "\n",
       "       [[0.00563647, 0.4513599 , 0.49207854, 0.14854728, 0.08020192],\n",
       "        [0.08647189, 0.04953672, 0.18959741, 0.27378917, 0.42937332],\n",
       "        [0.34788171, 0.74731171, 0.97146728, 0.78125414, 0.92451   ],\n",
       "        [0.67504347, 0.00284129, 0.73250322, 0.27917425, 0.31676393],\n",
       "        [0.50016816, 0.79870757, 0.84126468, 0.33663243, 0.36574096]],\n",
       "\n",
       "       [[0.02461992, 0.84391854, 0.31382624, 0.73364616, 0.34030676],\n",
       "        [0.42538323, 0.39410711, 0.90728946, 0.39726613, 0.75870021],\n",
       "        [0.65172776, 0.77179056, 0.00859338, 0.468581  , 0.54131141],\n",
       "        [0.23513697, 0.39996603, 0.46901075, 0.08556101, 0.54747878],\n",
       "        [0.3893399 , 0.21423405, 0.76142041, 0.84726431, 0.14090258]],\n",
       "\n",
       "       [[0.15259129, 0.21462381, 0.30966034, 0.31741452, 0.77170857],\n",
       "        [0.70034389, 0.76874726, 0.89119115, 0.70568831, 0.31299771],\n",
       "        [0.0330405 , 0.67371318, 0.21652329, 0.88860558, 0.06459378],\n",
       "        [0.23767431, 0.09214887, 0.04784052, 0.20074526, 0.40304031],\n",
       "        [0.56888679, 0.69314733, 0.19693716, 0.76046112, 0.04098996]],\n",
       "\n",
       "       [[0.18765471, 0.34951406, 0.79508909, 0.9698723 , 0.24800214],\n",
       "        [0.15058896, 0.34954687, 0.9301939 , 0.16420312, 0.4374772 ],\n",
       "        [0.54103003, 0.88242584, 0.86612435, 0.17388936, 0.64875003],\n",
       "        [0.11941838, 0.74231896, 0.61081698, 0.99220993, 0.25875691],\n",
       "        [0.2781279 , 0.71097757, 0.26635586, 0.40172142, 0.86104135]]])"
      ]
     },
     "execution_count": 180,
     "metadata": {},
     "output_type": "execute_result"
    }
   ],
   "source": [
    "np.random.ranf(size=(5,5,5))"
   ]
  },
  {
   "cell_type": "code",
   "execution_count": 181,
   "metadata": {},
   "outputs": [
    {
     "data": {
      "text/plain": [
       "array([[6, 8, 4, 4, 2],\n",
       "       [5, 9, 5, 7, 7],\n",
       "       [6, 2, 2, 4, 1],\n",
       "       [7, 9, 1, 2, 1],\n",
       "       [2, 1, 2, 1, 8]])"
      ]
     },
     "execution_count": 181,
     "metadata": {},
     "output_type": "execute_result"
    }
   ],
   "source": [
    "np.random.randint(1,10,size=(5,5))"
   ]
  },
  {
   "cell_type": "markdown",
   "metadata": {},
   "source": [
    "# Conversions"
   ]
  },
  {
   "cell_type": "code",
   "execution_count": 156,
   "metadata": {},
   "outputs": [],
   "source": [
    "d=64.0"
   ]
  },
  {
   "cell_type": "code",
   "execution_count": 157,
   "metadata": {},
   "outputs": [
    {
     "data": {
      "text/plain": [
       "64"
      ]
     },
     "execution_count": 157,
     "metadata": {},
     "output_type": "execute_result"
    }
   ],
   "source": [
    "int(d)"
   ]
  },
  {
   "cell_type": "code",
   "execution_count": 158,
   "metadata": {},
   "outputs": [
    {
     "data": {
      "text/plain": [
       "64.0"
      ]
     },
     "execution_count": 158,
     "metadata": {},
     "output_type": "execute_result"
    }
   ],
   "source": [
    "float(d)"
   ]
  },
  {
   "cell_type": "code",
   "execution_count": 159,
   "metadata": {},
   "outputs": [
    {
     "data": {
      "text/plain": [
       "(64+0j)"
      ]
     },
     "execution_count": 159,
     "metadata": {},
     "output_type": "execute_result"
    }
   ],
   "source": [
    "complex(d)"
   ]
  },
  {
   "cell_type": "code",
   "execution_count": 160,
   "metadata": {},
   "outputs": [
    {
     "data": {
      "text/plain": [
       "True"
      ]
     },
     "execution_count": 160,
     "metadata": {},
     "output_type": "execute_result"
    }
   ],
   "source": [
    "bool(d)"
   ]
  },
  {
   "cell_type": "code",
   "execution_count": 161,
   "metadata": {},
   "outputs": [
    {
     "data": {
      "text/plain": [
       "'64.0'"
      ]
     },
     "execution_count": 161,
     "metadata": {},
     "output_type": "execute_result"
    }
   ],
   "source": [
    "str(d)"
   ]
  },
  {
   "cell_type": "markdown",
   "metadata": {},
   "source": [
    "# indexing and slicing"
   ]
  },
  {
   "cell_type": "markdown",
   "metadata": {},
   "source": [
    "## *indexing for 2 dimension will be in the form of a[i][j]\n",
    "## *negative indexing also can be given"
   ]
  },
  {
   "cell_type": "code",
   "execution_count": 182,
   "metadata": {},
   "outputs": [],
   "source": [
    "a=np.array([[1,2,3,4],[5,6,7,8]])"
   ]
  },
  {
   "cell_type": "code",
   "execution_count": 183,
   "metadata": {},
   "outputs": [
    {
     "data": {
      "text/plain": [
       "array([[1, 2, 3, 4],\n",
       "       [5, 6, 7, 8]])"
      ]
     },
     "execution_count": 183,
     "metadata": {},
     "output_type": "execute_result"
    }
   ],
   "source": [
    "a"
   ]
  },
  {
   "cell_type": "code",
   "execution_count": 185,
   "metadata": {},
   "outputs": [
    {
     "data": {
      "text/plain": [
       "8"
      ]
     },
     "execution_count": 185,
     "metadata": {},
     "output_type": "execute_result"
    }
   ],
   "source": [
    "a[1][3]"
   ]
  },
  {
   "cell_type": "code",
   "execution_count": 186,
   "metadata": {},
   "outputs": [
    {
     "data": {
      "text/plain": [
       "3"
      ]
     },
     "execution_count": 186,
     "metadata": {},
     "output_type": "execute_result"
    }
   ],
   "source": [
    "a[0][2]"
   ]
  },
  {
   "cell_type": "code",
   "execution_count": 187,
   "metadata": {},
   "outputs": [
    {
     "data": {
      "text/plain": [
       "7"
      ]
     },
     "execution_count": 187,
     "metadata": {},
     "output_type": "execute_result"
    }
   ],
   "source": [
    "a[-1][-2]"
   ]
  },
  {
   "cell_type": "code",
   "execution_count": 188,
   "metadata": {},
   "outputs": [
    {
     "data": {
      "text/plain": [
       "array([1, 2, 3, 4])"
      ]
     },
     "execution_count": 188,
     "metadata": {},
     "output_type": "execute_result"
    }
   ],
   "source": [
    "a[0]"
   ]
  },
  {
   "cell_type": "markdown",
   "metadata": {},
   "source": [
    "## for 3D indexing a[i][j][k]"
   ]
  },
  {
   "cell_type": "markdown",
   "metadata": {},
   "source": [
    "## i= in 3D what is the matrix number"
   ]
  },
  {
   "cell_type": "markdown",
   "metadata": {},
   "source": [
    "## j= row\n",
    "## k=column"
   ]
  },
  {
   "cell_type": "code",
   "execution_count": 190,
   "metadata": {},
   "outputs": [],
   "source": [
    "d=np.random.randint(2,10,size=(3,3,3))"
   ]
  },
  {
   "cell_type": "code",
   "execution_count": 191,
   "metadata": {},
   "outputs": [
    {
     "data": {
      "text/plain": [
       "array([[[6, 3, 6],\n",
       "        [9, 7, 7],\n",
       "        [8, 5, 4]],\n",
       "\n",
       "       [[3, 3, 4],\n",
       "        [8, 7, 8],\n",
       "        [4, 9, 4]],\n",
       "\n",
       "       [[6, 8, 9],\n",
       "        [4, 4, 6],\n",
       "        [9, 7, 2]]])"
      ]
     },
     "execution_count": 191,
     "metadata": {},
     "output_type": "execute_result"
    }
   ],
   "source": [
    "d"
   ]
  },
  {
   "cell_type": "code",
   "execution_count": 192,
   "metadata": {},
   "outputs": [
    {
     "data": {
      "text/plain": [
       "7"
      ]
     },
     "execution_count": 192,
     "metadata": {},
     "output_type": "execute_result"
    }
   ],
   "source": [
    "d[0][1][1]"
   ]
  },
  {
   "cell_type": "markdown",
   "metadata": {},
   "source": [
    "# advanced indexing"
   ]
  },
  {
   "cell_type": "code",
   "execution_count": 9,
   "metadata": {},
   "outputs": [],
   "source": [
    "import numpy as np\n",
    "a=np.arange(1,10,1)"
   ]
  },
  {
   "cell_type": "code",
   "execution_count": 10,
   "metadata": {},
   "outputs": [
    {
     "data": {
      "text/plain": [
       "array([1, 2, 3, 4, 5, 6, 7, 8, 9])"
      ]
     },
     "execution_count": 10,
     "metadata": {},
     "output_type": "execute_result"
    }
   ],
   "source": [
    "a"
   ]
  },
  {
   "cell_type": "code",
   "execution_count": 12,
   "metadata": {},
   "outputs": [],
   "source": [
    "index=np.array([1,4,5])"
   ]
  },
  {
   "cell_type": "code",
   "execution_count": 13,
   "metadata": {},
   "outputs": [
    {
     "data": {
      "text/plain": [
       "array([2, 5, 6])"
      ]
     },
     "execution_count": 13,
     "metadata": {},
     "output_type": "execute_result"
    }
   ],
   "source": [
    "a[index]"
   ]
  },
  {
   "cell_type": "markdown",
   "metadata": {},
   "source": [
    "# 2nd method"
   ]
  },
  {
   "cell_type": "code",
   "execution_count": 14,
   "metadata": {},
   "outputs": [
    {
     "data": {
      "text/plain": [
       "array([2, 5, 6])"
      ]
     },
     "execution_count": 14,
     "metadata": {},
     "output_type": "execute_result"
    }
   ],
   "source": [
    "a[[1,4,5]]"
   ]
  },
  {
   "cell_type": "markdown",
   "metadata": {},
   "source": [
    "## Repetition of indexing"
   ]
  },
  {
   "cell_type": "code",
   "execution_count": 24,
   "metadata": {},
   "outputs": [
    {
     "data": {
      "text/plain": [
       "array([2, 5, 2, 5, 2, 5])"
      ]
     },
     "execution_count": 24,
     "metadata": {},
     "output_type": "execute_result"
    }
   ],
   "source": [
    "a[[1,4,1,4,1,4]]"
   ]
  },
  {
   "cell_type": "code",
   "execution_count": 15,
   "metadata": {},
   "outputs": [],
   "source": [
    "b=np.random.randint(1,20,size=(5,5))"
   ]
  },
  {
   "cell_type": "markdown",
   "metadata": {},
   "source": [
    "### Multi dimensional advanced indexing"
   ]
  },
  {
   "cell_type": "code",
   "execution_count": 16,
   "metadata": {},
   "outputs": [
    {
     "data": {
      "text/plain": [
       "array([[14, 18,  8,  9, 10],\n",
       "       [12, 18,  1, 19,  9],\n",
       "       [12,  5,  1, 14, 17],\n",
       "       [15, 11,  8,  5,  8],\n",
       "       [17, 18,  4, 16,  9]])"
      ]
     },
     "execution_count": 16,
     "metadata": {},
     "output_type": "execute_result"
    }
   ],
   "source": [
    "b"
   ]
  },
  {
   "cell_type": "code",
   "execution_count": 17,
   "metadata": {},
   "outputs": [
    {
     "data": {
      "text/plain": [
       "array([19])"
      ]
     },
     "execution_count": 17,
     "metadata": {},
     "output_type": "execute_result"
    }
   ],
   "source": [
    "b[[1],[3]]"
   ]
  },
  {
   "cell_type": "code",
   "execution_count": 20,
   "metadata": {},
   "outputs": [
    {
     "data": {
      "text/plain": [
       "array([14,  9])"
      ]
     },
     "execution_count": 20,
     "metadata": {},
     "output_type": "execute_result"
    }
   ],
   "source": [
    "b[[0,4],[0,4]]"
   ]
  },
  {
   "cell_type": "code",
   "execution_count": 22,
   "metadata": {},
   "outputs": [
    {
     "data": {
      "text/plain": [
       "array([18, 19])"
      ]
     },
     "execution_count": 22,
     "metadata": {},
     "output_type": "execute_result"
    }
   ],
   "source": [
    "b[[1],[1,3]]"
   ]
  },
  {
   "cell_type": "markdown",
   "metadata": {},
   "source": [
    "# Boolean Indexing (giving condition)"
   ]
  },
  {
   "cell_type": "code",
   "execution_count": 26,
   "metadata": {},
   "outputs": [],
   "source": [
    "c=np.array([[1,2,3,4],[5,6,7,8]])"
   ]
  },
  {
   "cell_type": "code",
   "execution_count": 27,
   "metadata": {},
   "outputs": [
    {
     "data": {
      "text/plain": [
       "array([[1, 2, 3, 4],\n",
       "       [5, 6, 7, 8]])"
      ]
     },
     "execution_count": 27,
     "metadata": {},
     "output_type": "execute_result"
    }
   ],
   "source": [
    "c"
   ]
  },
  {
   "cell_type": "code",
   "execution_count": 28,
   "metadata": {},
   "outputs": [
    {
     "data": {
      "text/plain": [
       "array([1, 2, 3])"
      ]
     },
     "execution_count": 28,
     "metadata": {},
     "output_type": "execute_result"
    }
   ],
   "source": [
    "c[c<4]"
   ]
  },
  {
   "cell_type": "code",
   "execution_count": 29,
   "metadata": {},
   "outputs": [
    {
     "data": {
      "text/plain": [
       "array([3, 4, 5, 6, 7, 8])"
      ]
     },
     "execution_count": 29,
     "metadata": {},
     "output_type": "execute_result"
    }
   ],
   "source": [
    "c[c>2]"
   ]
  },
  {
   "cell_type": "code",
   "execution_count": 30,
   "metadata": {},
   "outputs": [
    {
     "data": {
      "text/plain": [
       "array([10, 20, 30, 40, 50, 60, 70, 80])"
      ]
     },
     "execution_count": 30,
     "metadata": {},
     "output_type": "execute_result"
    }
   ],
   "source": [
    "c[c>=1]*10"
   ]
  },
  {
   "cell_type": "code",
   "execution_count": 33,
   "metadata": {},
   "outputs": [],
   "source": [
    "d=c[[0,1],[1,1]]*10"
   ]
  },
  {
   "cell_type": "code",
   "execution_count": 34,
   "metadata": {},
   "outputs": [
    {
     "data": {
      "text/plain": [
       "array([20, 60])"
      ]
     },
     "execution_count": 34,
     "metadata": {},
     "output_type": "execute_result"
    }
   ],
   "source": [
    "d"
   ]
  },
  {
   "cell_type": "markdown",
   "metadata": {},
   "source": [
    "# Slicing"
   ]
  },
  {
   "cell_type": "code",
   "execution_count": 35,
   "metadata": {},
   "outputs": [
    {
     "data": {
      "text/plain": [
       "array([[2, 3],\n",
       "       [6, 7]])"
      ]
     },
     "execution_count": 35,
     "metadata": {},
     "output_type": "execute_result"
    }
   ],
   "source": [
    "c[0:,1:3]"
   ]
  },
  {
   "cell_type": "markdown",
   "metadata": {},
   "source": [
    "# Arithmetic Operations\n",
    "## 1.scalar(constant element)\n",
    "## 2.in between arrays"
   ]
  },
  {
   "cell_type": "code",
   "execution_count": 38,
   "metadata": {},
   "outputs": [],
   "source": [
    "s=np.arange(1,10,1)"
   ]
  },
  {
   "cell_type": "code",
   "execution_count": 39,
   "metadata": {},
   "outputs": [
    {
     "data": {
      "text/plain": [
       "array([1, 2, 3, 4, 5, 6, 7, 8, 9])"
      ]
     },
     "execution_count": 39,
     "metadata": {},
     "output_type": "execute_result"
    }
   ],
   "source": [
    "s"
   ]
  },
  {
   "cell_type": "code",
   "execution_count": 40,
   "metadata": {},
   "outputs": [
    {
     "data": {
      "text/plain": [
       "array([11, 12, 13, 14, 15, 16, 17, 18, 19])"
      ]
     },
     "execution_count": 40,
     "metadata": {},
     "output_type": "execute_result"
    }
   ],
   "source": [
    "s+10"
   ]
  },
  {
   "cell_type": "code",
   "execution_count": 41,
   "metadata": {},
   "outputs": [
    {
     "data": {
      "text/plain": [
       "array([10, 20, 30, 40, 50, 60, 70, 80, 90])"
      ]
     },
     "execution_count": 41,
     "metadata": {},
     "output_type": "execute_result"
    }
   ],
   "source": [
    "s*10"
   ]
  },
  {
   "cell_type": "code",
   "execution_count": 42,
   "metadata": {},
   "outputs": [
    {
     "data": {
      "text/plain": [
       "array([0.1, 0.2, 0.3, 0.4, 0.5, 0.6, 0.7, 0.8, 0.9])"
      ]
     },
     "execution_count": 42,
     "metadata": {},
     "output_type": "execute_result"
    }
   ],
   "source": [
    "s/10"
   ]
  },
  {
   "cell_type": "code",
   "execution_count": 43,
   "metadata": {},
   "outputs": [
    {
     "data": {
      "text/plain": [
       "array([-9, -8, -7, -6, -5, -4, -3, -2, -1])"
      ]
     },
     "execution_count": 43,
     "metadata": {},
     "output_type": "execute_result"
    }
   ],
   "source": [
    "s-10"
   ]
  },
  {
   "cell_type": "code",
   "execution_count": 54,
   "metadata": {},
   "outputs": [
    {
     "data": {
      "text/plain": [
       "array([ 1,  4,  9, 16, 25, 36, 49, 64, 81], dtype=int32)"
      ]
     },
     "execution_count": 54,
     "metadata": {},
     "output_type": "execute_result"
    }
   ],
   "source": [
    "s**2"
   ]
  },
  {
   "cell_type": "code",
   "execution_count": 47,
   "metadata": {},
   "outputs": [],
   "source": [
    "p=np.arange(11,20,1)"
   ]
  },
  {
   "cell_type": "code",
   "execution_count": 48,
   "metadata": {},
   "outputs": [
    {
     "data": {
      "text/plain": [
       "array([11, 12, 13, 14, 15, 16, 17, 18, 19])"
      ]
     },
     "execution_count": 48,
     "metadata": {},
     "output_type": "execute_result"
    }
   ],
   "source": [
    "p"
   ]
  },
  {
   "cell_type": "code",
   "execution_count": 49,
   "metadata": {},
   "outputs": [
    {
     "data": {
      "text/plain": [
       "array([12, 14, 16, 18, 20, 22, 24, 26, 28])"
      ]
     },
     "execution_count": 49,
     "metadata": {},
     "output_type": "execute_result"
    }
   ],
   "source": [
    "s+p"
   ]
  },
  {
   "cell_type": "code",
   "execution_count": 50,
   "metadata": {},
   "outputs": [
    {
     "data": {
      "text/plain": [
       "array([-10, -10, -10, -10, -10, -10, -10, -10, -10])"
      ]
     },
     "execution_count": 50,
     "metadata": {},
     "output_type": "execute_result"
    }
   ],
   "source": [
    "s-p"
   ]
  },
  {
   "cell_type": "code",
   "execution_count": 51,
   "metadata": {},
   "outputs": [
    {
     "data": {
      "text/plain": [
       "array([ 11,  24,  39,  56,  75,  96, 119, 144, 171])"
      ]
     },
     "execution_count": 51,
     "metadata": {},
     "output_type": "execute_result"
    }
   ],
   "source": [
    "s*p"
   ]
  },
  {
   "cell_type": "code",
   "execution_count": 52,
   "metadata": {},
   "outputs": [
    {
     "data": {
      "text/plain": [
       "array([0.09090909, 0.16666667, 0.23076923, 0.28571429, 0.33333333,\n",
       "       0.375     , 0.41176471, 0.44444444, 0.47368421])"
      ]
     },
     "execution_count": 52,
     "metadata": {},
     "output_type": "execute_result"
    }
   ],
   "source": [
    "s/p"
   ]
  },
  {
   "cell_type": "code",
   "execution_count": 57,
   "metadata": {},
   "outputs": [],
   "source": [
    "a=np.random.randint(1,10,size=(4,5))"
   ]
  },
  {
   "cell_type": "code",
   "execution_count": 58,
   "metadata": {},
   "outputs": [
    {
     "data": {
      "text/plain": [
       "array([[3, 8, 5, 9, 3],\n",
       "       [1, 3, 9, 5, 3],\n",
       "       [1, 7, 9, 9, 1],\n",
       "       [6, 9, 4, 1, 6]])"
      ]
     },
     "execution_count": 58,
     "metadata": {},
     "output_type": "execute_result"
    }
   ],
   "source": [
    "a"
   ]
  },
  {
   "cell_type": "code",
   "execution_count": 59,
   "metadata": {},
   "outputs": [],
   "source": [
    "b=np.random.rand(4,5)"
   ]
  },
  {
   "cell_type": "code",
   "execution_count": 60,
   "metadata": {},
   "outputs": [
    {
     "data": {
      "text/plain": [
       "array([[0.85110747, 0.85405501, 0.91097013, 0.17483745, 0.58492273],\n",
       "       [0.06340009, 0.35642822, 0.65203359, 0.58389732, 0.25634102],\n",
       "       [0.1566194 , 0.92537723, 0.5433381 , 0.75703687, 0.23742296],\n",
       "       [0.69679108, 0.28754482, 0.54149271, 0.26733111, 0.49990254]])"
      ]
     },
     "execution_count": 60,
     "metadata": {},
     "output_type": "execute_result"
    }
   ],
   "source": [
    "b"
   ]
  },
  {
   "cell_type": "code",
   "execution_count": 61,
   "metadata": {},
   "outputs": [],
   "source": [
    "c=np.random.randn(4,5)"
   ]
  },
  {
   "cell_type": "code",
   "execution_count": 62,
   "metadata": {},
   "outputs": [
    {
     "data": {
      "text/plain": [
       "array([[ 1.66770872,  1.06194132, -0.21706179, -1.94311127,  1.14782735],\n",
       "       [-0.50045902,  0.58573541,  0.54456585,  0.85246313, -0.16339039],\n",
       "       [ 0.85178583,  0.42947105,  1.51506091,  1.6112059 , -0.99643837],\n",
       "       [-1.18774485,  0.01797191, -0.91516095, -0.52478372,  1.60398158]])"
      ]
     },
     "execution_count": 62,
     "metadata": {},
     "output_type": "execute_result"
    }
   ],
   "source": [
    "c"
   ]
  },
  {
   "cell_type": "code",
   "execution_count": 65,
   "metadata": {},
   "outputs": [],
   "source": [
    "d=np.random.ranf(size=(4,5))"
   ]
  },
  {
   "cell_type": "code",
   "execution_count": 66,
   "metadata": {},
   "outputs": [
    {
     "data": {
      "text/plain": [
       "array([[0.95140562, 0.47823393, 0.5246374 , 0.38339906, 0.60012528],\n",
       "       [0.15948767, 0.51910409, 0.46494236, 0.70724779, 0.84589917],\n",
       "       [0.16541993, 0.90606173, 0.00716236, 0.15844327, 0.01189332],\n",
       "       [0.83717162, 0.17322668, 0.01834425, 0.86156886, 0.4374113 ]])"
      ]
     },
     "execution_count": 66,
     "metadata": {},
     "output_type": "execute_result"
    }
   ],
   "source": [
    "d"
   ]
  },
  {
   "cell_type": "code",
   "execution_count": 67,
   "metadata": {},
   "outputs": [
    {
     "data": {
      "text/plain": [
       "array([[3.85110747, 8.85405501, 5.91097013, 9.17483745, 3.58492273],\n",
       "       [1.06340009, 3.35642822, 9.65203359, 5.58389732, 3.25634102],\n",
       "       [1.1566194 , 7.92537723, 9.5433381 , 9.75703687, 1.23742296],\n",
       "       [6.69679108, 9.28754482, 4.54149271, 1.26733111, 6.49990254]])"
      ]
     },
     "execution_count": 67,
     "metadata": {},
     "output_type": "execute_result"
    }
   ],
   "source": [
    "a+b"
   ]
  },
  {
   "cell_type": "code",
   "execution_count": 68,
   "metadata": {},
   "outputs": [
    {
     "data": {
      "text/plain": [
       "array([[2.85421686, 3.82587144, 2.62318701, 3.45059155, 1.80037584],\n",
       "       [0.15948767, 1.55731226, 4.18448121, 3.53623893, 2.53769752],\n",
       "       [0.16541993, 6.34243212, 0.0644612 , 1.4259894 , 0.01189332],\n",
       "       [5.02302969, 1.55904013, 0.07337701, 0.86156886, 2.62446778]])"
      ]
     },
     "execution_count": 68,
     "metadata": {},
     "output_type": "execute_result"
    }
   ],
   "source": [
    "a*d"
   ]
  },
  {
   "cell_type": "code",
   "execution_count": 69,
   "metadata": {},
   "outputs": [
    {
     "data": {
      "text/plain": [
       "array([[3.85110747, 8.85405501, 5.91097013, 9.17483745, 3.58492273],\n",
       "       [1.06340009, 3.35642822, 9.65203359, 5.58389732, 3.25634102],\n",
       "       [1.1566194 , 7.92537723, 9.5433381 , 9.75703687, 1.23742296],\n",
       "       [6.69679108, 9.28754482, 4.54149271, 1.26733111, 6.49990254]])"
      ]
     },
     "execution_count": 69,
     "metadata": {},
     "output_type": "execute_result"
    }
   ],
   "source": [
    "np.add(a,b)"
   ]
  },
  {
   "cell_type": "code",
   "execution_count": 70,
   "metadata": {},
   "outputs": [
    {
     "data": {
      "text/plain": [
       "array([[2.14889253, 7.14594499, 4.08902987, 8.82516255, 2.41507727],\n",
       "       [0.93659991, 2.64357178, 8.34796641, 4.41610268, 2.74365898],\n",
       "       [0.8433806 , 6.07462277, 8.4566619 , 8.24296313, 0.76257704],\n",
       "       [5.30320892, 8.71245518, 3.45850729, 0.73266889, 5.50009746]])"
      ]
     },
     "execution_count": 70,
     "metadata": {},
     "output_type": "execute_result"
    }
   ],
   "source": [
    "np.subtract(a,b)"
   ]
  },
  {
   "cell_type": "code",
   "execution_count": 71,
   "metadata": {},
   "outputs": [
    {
     "data": {
      "text/plain": [
       "array([[2.5533224 , 6.8324401 , 4.55485064, 1.57353702, 1.75476819],\n",
       "       [0.06340009, 1.06928465, 5.86830233, 2.91948661, 0.76902306],\n",
       "       [0.1566194 , 6.47764061, 4.89004288, 6.8133318 , 0.23742296],\n",
       "       [4.18074646, 2.58790342, 2.16597086, 0.26733111, 2.99941523]])"
      ]
     },
     "execution_count": 71,
     "metadata": {},
     "output_type": "execute_result"
    }
   ],
   "source": [
    "np.multiply(a,b)"
   ]
  },
  {
   "cell_type": "markdown",
   "metadata": {},
   "source": [
    "# Broadcasting (Performing Arthimetic Operations of different shape)"
   ]
  },
  {
   "cell_type": "code",
   "execution_count": 72,
   "metadata": {},
   "outputs": [],
   "source": [
    "a=np.arange(1,10,1)"
   ]
  },
  {
   "cell_type": "code",
   "execution_count": 73,
   "metadata": {},
   "outputs": [
    {
     "data": {
      "text/plain": [
       "array([1, 2, 3, 4, 5, 6, 7, 8, 9])"
      ]
     },
     "execution_count": 73,
     "metadata": {},
     "output_type": "execute_result"
    }
   ],
   "source": [
    "a"
   ]
  },
  {
   "cell_type": "code",
   "execution_count": 74,
   "metadata": {},
   "outputs": [],
   "source": [
    "b=np.arange(1,5,1)"
   ]
  },
  {
   "cell_type": "code",
   "execution_count": 75,
   "metadata": {},
   "outputs": [
    {
     "data": {
      "text/plain": [
       "array([1, 2, 3, 4])"
      ]
     },
     "execution_count": 75,
     "metadata": {},
     "output_type": "execute_result"
    }
   ],
   "source": [
    "b"
   ]
  },
  {
   "cell_type": "markdown",
   "metadata": {},
   "source": [
    "## 1.  we need to check the shape of the array.\n",
    "## 2. Thenwe need to check the dimension, if dimensions are not equal then add 1 to  lower dimension on left side if it is 1 dimentional,  if not check any one of the array is having shape 1............ if contains1 ok if not we cannot perform operations.\n",
    "### 3.if contains dimension 1 then coming from right c that both are equal are not, if equal then we can perform operations"
   ]
  },
  {
   "cell_type": "code",
   "execution_count": 76,
   "metadata": {},
   "outputs": [],
   "source": [
    "c=np.random.randint(1,5,size=(3,2))"
   ]
  },
  {
   "cell_type": "code",
   "execution_count": null,
   "metadata": {},
   "outputs": [],
   "source": [
    "d=np.arange(1,3,1)"
   ]
  },
  {
   "cell_type": "markdown",
   "metadata": {},
   "source": [
    "### Higher dimension column must be equal to lower dimension column then we can perform Arthimetic operations, output will be in the form of higher dimension only."
   ]
  },
  {
   "cell_type": "code",
   "execution_count": 78,
   "metadata": {},
   "outputs": [
    {
     "data": {
      "text/plain": [
       "array([[3, 1],\n",
       "       [1, 2],\n",
       "       [2, 2]])"
      ]
     },
     "execution_count": 78,
     "metadata": {},
     "output_type": "execute_result"
    }
   ],
   "source": [
    "c"
   ]
  },
  {
   "cell_type": "code",
   "execution_count": 80,
   "metadata": {},
   "outputs": [
    {
     "data": {
      "text/plain": [
       "array([1, 2])"
      ]
     },
     "execution_count": 80,
     "metadata": {},
     "output_type": "execute_result"
    }
   ],
   "source": [
    "d"
   ]
  },
  {
   "cell_type": "code",
   "execution_count": 81,
   "metadata": {},
   "outputs": [
    {
     "data": {
      "text/plain": [
       "array([[4, 3],\n",
       "       [2, 4],\n",
       "       [3, 4]])"
      ]
     },
     "execution_count": 81,
     "metadata": {},
     "output_type": "execute_result"
    }
   ],
   "source": [
    "c+d"
   ]
  },
  {
   "cell_type": "code",
   "execution_count": 82,
   "metadata": {},
   "outputs": [
    {
     "data": {
      "text/plain": [
       "array([[3, 2],\n",
       "       [1, 4],\n",
       "       [2, 4]])"
      ]
     },
     "execution_count": 82,
     "metadata": {},
     "output_type": "execute_result"
    }
   ],
   "source": [
    "c*d"
   ]
  },
  {
   "cell_type": "code",
   "execution_count": 83,
   "metadata": {},
   "outputs": [],
   "source": [
    "e=np.random.randint(1,10,size=(3,1))"
   ]
  },
  {
   "cell_type": "code",
   "execution_count": 88,
   "metadata": {},
   "outputs": [
    {
     "data": {
      "text/plain": [
       "(3, 1)"
      ]
     },
     "execution_count": 88,
     "metadata": {},
     "output_type": "execute_result"
    }
   ],
   "source": [
    "e.shape"
   ]
  },
  {
   "cell_type": "code",
   "execution_count": 85,
   "metadata": {},
   "outputs": [],
   "source": [
    "f=np.arange(1,4)"
   ]
  },
  {
   "cell_type": "code",
   "execution_count": 89,
   "metadata": {},
   "outputs": [
    {
     "data": {
      "text/plain": [
       "(3,)"
      ]
     },
     "execution_count": 89,
     "metadata": {},
     "output_type": "execute_result"
    }
   ],
   "source": [
    "f.shape"
   ]
  },
  {
   "cell_type": "markdown",
   "metadata": {},
   "source": [
    "## Here e is 3 Dimension and f is lower dimension so add 1 to f on left side ,comparing both are having 1 so stretching will happen and perform operations"
   ]
  },
  {
   "cell_type": "code",
   "execution_count": 87,
   "metadata": {},
   "outputs": [
    {
     "data": {
      "text/plain": [
       "array([[ 4,  5,  6],\n",
       "       [10, 11, 12],\n",
       "       [ 2,  3,  4]])"
      ]
     },
     "execution_count": 87,
     "metadata": {},
     "output_type": "execute_result"
    }
   ],
   "source": [
    "e+f"
   ]
  },
  {
   "cell_type": "markdown",
   "metadata": {},
   "source": [
    "# ARRAY MANIPULATION\n",
    "\n",
    "### Changing of everything in an array will comes under manipulation."
   ]
  },
  {
   "cell_type": "markdown",
   "metadata": {},
   "source": [
    "## Re-shape and Re-size"
   ]
  },
  {
   "cell_type": "code",
   "execution_count": 94,
   "metadata": {},
   "outputs": [],
   "source": [
    "a=np.random.ranf(size=(4,5))"
   ]
  },
  {
   "cell_type": "code",
   "execution_count": 95,
   "metadata": {},
   "outputs": [
    {
     "data": {
      "text/plain": [
       "array([[0.08935258, 0.4152992 , 0.91372188, 0.89811809, 0.28513197],\n",
       "       [0.54693822, 0.85064972, 0.3949214 , 0.70660196, 0.78446256],\n",
       "       [0.96503296, 0.55124978, 0.22620422, 0.77671129, 0.33384839],\n",
       "       [0.17699872, 0.29111009, 0.30296262, 0.62482199, 0.239056  ]])"
      ]
     },
     "execution_count": 95,
     "metadata": {},
     "output_type": "execute_result"
    }
   ],
   "source": [
    "a"
   ]
  },
  {
   "cell_type": "code",
   "execution_count": 96,
   "metadata": {},
   "outputs": [],
   "source": [
    "b=np.reshape(a,(5,4))"
   ]
  },
  {
   "cell_type": "code",
   "execution_count": 97,
   "metadata": {},
   "outputs": [],
   "source": [
    "c=np.reshape(a,(5,4),order=\"F\")"
   ]
  },
  {
   "cell_type": "code",
   "execution_count": 98,
   "metadata": {},
   "outputs": [
    {
     "data": {
      "text/plain": [
       "array([[0.08935258, 0.4152992 , 0.91372188, 0.89811809],\n",
       "       [0.28513197, 0.54693822, 0.85064972, 0.3949214 ],\n",
       "       [0.70660196, 0.78446256, 0.96503296, 0.55124978],\n",
       "       [0.22620422, 0.77671129, 0.33384839, 0.17699872],\n",
       "       [0.29111009, 0.30296262, 0.62482199, 0.239056  ]])"
      ]
     },
     "execution_count": 98,
     "metadata": {},
     "output_type": "execute_result"
    }
   ],
   "source": [
    "\n",
    "b"
   ]
  },
  {
   "cell_type": "code",
   "execution_count": 99,
   "metadata": {},
   "outputs": [
    {
     "data": {
      "text/plain": [
       "array([[0.08935258, 0.85064972, 0.22620422, 0.62482199],\n",
       "       [0.54693822, 0.55124978, 0.30296262, 0.28513197],\n",
       "       [0.96503296, 0.29111009, 0.89811809, 0.78446256],\n",
       "       [0.17699872, 0.91372188, 0.70660196, 0.33384839],\n",
       "       [0.4152992 , 0.3949214 , 0.77671129, 0.239056  ]])"
      ]
     },
     "execution_count": 99,
     "metadata": {},
     "output_type": "execute_result"
    }
   ],
   "source": [
    "c"
   ]
  },
  {
   "cell_type": "code",
   "execution_count": 100,
   "metadata": {},
   "outputs": [
    {
     "data": {
      "text/plain": [
       "((5, 4), 20)"
      ]
     },
     "execution_count": 100,
     "metadata": {},
     "output_type": "execute_result"
    }
   ],
   "source": [
    "b.shape,b.size"
   ]
  },
  {
   "cell_type": "code",
   "execution_count": 101,
   "metadata": {},
   "outputs": [
    {
     "data": {
      "text/plain": [
       "((5, 4), 20)"
      ]
     },
     "execution_count": 101,
     "metadata": {},
     "output_type": "execute_result"
    }
   ],
   "source": [
    "c.shape,c.size"
   ]
  },
  {
   "cell_type": "code",
   "execution_count": 102,
   "metadata": {},
   "outputs": [
    {
     "data": {
      "text/plain": [
       "array([[0.08935258, 0.4152992 , 0.91372188, 0.89811809],\n",
       "       [0.28513197, 0.54693822, 0.85064972, 0.3949214 ],\n",
       "       [0.70660196, 0.78446256, 0.96503296, 0.55124978],\n",
       "       [0.22620422, 0.77671129, 0.33384839, 0.17699872],\n",
       "       [0.29111009, 0.30296262, 0.62482199, 0.239056  ]])"
      ]
     },
     "execution_count": 102,
     "metadata": {},
     "output_type": "execute_result"
    }
   ],
   "source": [
    "b.reshape((5,4))"
   ]
  },
  {
   "cell_type": "markdown",
   "metadata": {},
   "source": [
    "# Re-size will change the data of the array but in resize we can resize it to any shape, if we take the higher shape elements may be repeated."
   ]
  },
  {
   "cell_type": "code",
   "execution_count": 104,
   "metadata": {},
   "outputs": [],
   "source": [
    "f=np.resize(b,(3,3))"
   ]
  },
  {
   "cell_type": "code",
   "execution_count": 105,
   "metadata": {},
   "outputs": [
    {
     "data": {
      "text/plain": [
       "array([[0.08935258, 0.4152992 , 0.91372188],\n",
       "       [0.89811809, 0.28513197, 0.54693822],\n",
       "       [0.85064972, 0.3949214 , 0.70660196]])"
      ]
     },
     "execution_count": 105,
     "metadata": {},
     "output_type": "execute_result"
    }
   ],
   "source": [
    "f"
   ]
  },
  {
   "cell_type": "code",
   "execution_count": 106,
   "metadata": {},
   "outputs": [],
   "source": [
    "g=np.resize(b,(6,5))"
   ]
  },
  {
   "cell_type": "code",
   "execution_count": 107,
   "metadata": {},
   "outputs": [
    {
     "data": {
      "text/plain": [
       "array([[0.08935258, 0.4152992 , 0.91372188, 0.89811809, 0.28513197],\n",
       "       [0.54693822, 0.85064972, 0.3949214 , 0.70660196, 0.78446256],\n",
       "       [0.96503296, 0.55124978, 0.22620422, 0.77671129, 0.33384839],\n",
       "       [0.17699872, 0.29111009, 0.30296262, 0.62482199, 0.239056  ],\n",
       "       [0.08935258, 0.4152992 , 0.91372188, 0.89811809, 0.28513197],\n",
       "       [0.54693822, 0.85064972, 0.3949214 , 0.70660196, 0.78446256]])"
      ]
     },
     "execution_count": 107,
     "metadata": {},
     "output_type": "execute_result"
    }
   ],
   "source": [
    "g"
   ]
  },
  {
   "cell_type": "markdown",
   "metadata": {},
   "source": [
    "# this will directly change the input data also"
   ]
  },
  {
   "cell_type": "code",
   "execution_count": 109,
   "metadata": {},
   "outputs": [],
   "source": [
    "b.resize((5,4))"
   ]
  },
  {
   "cell_type": "code",
   "execution_count": 110,
   "metadata": {},
   "outputs": [
    {
     "data": {
      "text/plain": [
       "array([[0.08935258, 0.4152992 , 0.91372188, 0.89811809],\n",
       "       [0.28513197, 0.54693822, 0.85064972, 0.3949214 ],\n",
       "       [0.70660196, 0.78446256, 0.96503296, 0.55124978],\n",
       "       [0.22620422, 0.77671129, 0.33384839, 0.17699872],\n",
       "       [0.29111009, 0.30296262, 0.62482199, 0.239056  ]])"
      ]
     },
     "execution_count": 110,
     "metadata": {},
     "output_type": "execute_result"
    }
   ],
   "source": [
    "b"
   ]
  },
  {
   "cell_type": "markdown",
   "metadata": {},
   "source": [
    "## * flattening any dimension array into 1D"
   ]
  },
  {
   "cell_type": "code",
   "execution_count": 111,
   "metadata": {},
   "outputs": [
    {
     "data": {
      "text/plain": [
       "array([0.08935258, 0.4152992 , 0.91372188, 0.89811809, 0.28513197,\n",
       "       0.54693822, 0.85064972, 0.3949214 , 0.70660196, 0.78446256,\n",
       "       0.96503296, 0.55124978, 0.22620422, 0.77671129, 0.33384839,\n",
       "       0.17699872, 0.29111009, 0.30296262, 0.62482199, 0.239056  ])"
      ]
     },
     "execution_count": 111,
     "metadata": {},
     "output_type": "execute_result"
    }
   ],
   "source": [
    "b.flatten()"
   ]
  },
  {
   "cell_type": "code",
   "execution_count": 112,
   "metadata": {},
   "outputs": [
    {
     "data": {
      "text/plain": [
       "array([0.08935258, 0.28513197, 0.70660196, 0.22620422, 0.29111009,\n",
       "       0.4152992 , 0.54693822, 0.78446256, 0.77671129, 0.30296262,\n",
       "       0.91372188, 0.85064972, 0.96503296, 0.33384839, 0.62482199,\n",
       "       0.89811809, 0.3949214 , 0.55124978, 0.17699872, 0.239056  ])"
      ]
     },
     "execution_count": 112,
     "metadata": {},
     "output_type": "execute_result"
    }
   ],
   "source": [
    "b.flatten(\"F\")"
   ]
  },
  {
   "cell_type": "code",
   "execution_count": 113,
   "metadata": {},
   "outputs": [
    {
     "data": {
      "text/plain": [
       "array([0.08935258, 0.4152992 , 0.91372188, 0.89811809, 0.28513197,\n",
       "       0.54693822, 0.85064972, 0.3949214 , 0.70660196, 0.78446256,\n",
       "       0.96503296, 0.55124978, 0.22620422, 0.77671129, 0.33384839,\n",
       "       0.17699872, 0.29111009, 0.30296262, 0.62482199, 0.239056  ])"
      ]
     },
     "execution_count": 113,
     "metadata": {},
     "output_type": "execute_result"
    }
   ],
   "source": [
    "np.ravel(b)"
   ]
  },
  {
   "cell_type": "markdown",
   "metadata": {},
   "source": [
    "### *both flatten and  ravel will flatten the array into 1D but flatten will return theoutput but ravel will store the output and give us when ever required it only gives us the view"
   ]
  },
  {
   "cell_type": "markdown",
   "metadata": {},
   "source": [
    "# TRASPOSE AND SWAP-AXIS"
   ]
  },
  {
   "cell_type": "markdown",
   "metadata": {},
   "source": [
    "### Transpose means just transpose of dimension only\n",
    "### * we can apply transpose on any dimension it will reverse it and if we apply on 1D array it wiil remain same.\n",
    "### * transpose may also depend on axes we are giving,\n",
    "### 1.axes=(1,0) - transpose occur\n",
    "### 2.axes=(0,1) - transpose does not occur\n",
    "## * axes will play a crucial role in transpose when we go for higher dimension.\n"
   ]
  },
  {
   "cell_type": "code",
   "execution_count": 122,
   "metadata": {},
   "outputs": [],
   "source": [
    "a=np.arange(1,13).reshape(3,4)"
   ]
  },
  {
   "cell_type": "code",
   "execution_count": 123,
   "metadata": {},
   "outputs": [
    {
     "data": {
      "text/plain": [
       "array([[ 1,  2,  3,  4],\n",
       "       [ 5,  6,  7,  8],\n",
       "       [ 9, 10, 11, 12]])"
      ]
     },
     "execution_count": 123,
     "metadata": {},
     "output_type": "execute_result"
    }
   ],
   "source": [
    "a"
   ]
  },
  {
   "cell_type": "code",
   "execution_count": 124,
   "metadata": {},
   "outputs": [
    {
     "data": {
      "text/plain": [
       "array([[ 1,  5,  9],\n",
       "       [ 2,  6, 10],\n",
       "       [ 3,  7, 11],\n",
       "       [ 4,  8, 12]])"
      ]
     },
     "execution_count": 124,
     "metadata": {},
     "output_type": "execute_result"
    }
   ],
   "source": [
    "a.transpose()"
   ]
  },
  {
   "cell_type": "code",
   "execution_count": 126,
   "metadata": {},
   "outputs": [
    {
     "data": {
      "text/plain": [
       "array([[ 1,  5,  9],\n",
       "       [ 2,  6, 10],\n",
       "       [ 3,  7, 11],\n",
       "       [ 4,  8, 12]])"
      ]
     },
     "execution_count": 126,
     "metadata": {},
     "output_type": "execute_result"
    }
   ],
   "source": [
    "np.transpose(a)"
   ]
  },
  {
   "cell_type": "code",
   "execution_count": 129,
   "metadata": {},
   "outputs": [
    {
     "data": {
      "text/plain": [
       "array([[ 1,  5,  9],\n",
       "       [ 2,  6, 10],\n",
       "       [ 3,  7, 11],\n",
       "       [ 4,  8, 12]])"
      ]
     },
     "execution_count": 129,
     "metadata": {},
     "output_type": "execute_result"
    }
   ],
   "source": [
    "np.transpose(a,axes=(1,0))"
   ]
  },
  {
   "cell_type": "code",
   "execution_count": 130,
   "metadata": {},
   "outputs": [
    {
     "data": {
      "text/plain": [
       "array([[ 1,  2,  3,  4],\n",
       "       [ 5,  6,  7,  8],\n",
       "       [ 9, 10, 11, 12]])"
      ]
     },
     "execution_count": 130,
     "metadata": {},
     "output_type": "execute_result"
    }
   ],
   "source": [
    "np.transpose(a,axes=(0,1))"
   ]
  },
  {
   "cell_type": "code",
   "execution_count": 141,
   "metadata": {},
   "outputs": [],
   "source": [
    "b=np.arange(1,11).reshape(1,5,2)"
   ]
  },
  {
   "cell_type": "code",
   "execution_count": 142,
   "metadata": {},
   "outputs": [
    {
     "data": {
      "text/plain": [
       "array([[[ 1,  2],\n",
       "        [ 3,  4],\n",
       "        [ 5,  6],\n",
       "        [ 7,  8],\n",
       "        [ 9, 10]]])"
      ]
     },
     "execution_count": 142,
     "metadata": {},
     "output_type": "execute_result"
    }
   ],
   "source": [
    "b"
   ]
  },
  {
   "cell_type": "code",
   "execution_count": 135,
   "metadata": {},
   "outputs": [
    {
     "data": {
      "text/plain": [
       "array([[[ 1, 11, 21, 31],\n",
       "        [ 3, 13, 23, 33],\n",
       "        [ 5, 15, 25, 35],\n",
       "        [ 7, 17, 27, 37],\n",
       "        [ 9, 19, 29, 39]],\n",
       "\n",
       "       [[ 2, 12, 22, 32],\n",
       "        [ 4, 14, 24, 34],\n",
       "        [ 6, 16, 26, 36],\n",
       "        [ 8, 18, 28, 38],\n",
       "        [10, 20, 30, 40]]])"
      ]
     },
     "execution_count": 135,
     "metadata": {},
     "output_type": "execute_result"
    }
   ],
   "source": [
    "np.transpose(b,axes=(2,1,0))"
   ]
  },
  {
   "cell_type": "markdown",
   "metadata": {},
   "source": [
    "## Swap-axis is used to inter-change only 2 axis"
   ]
  },
  {
   "cell_type": "code",
   "execution_count": 144,
   "metadata": {},
   "outputs": [
    {
     "data": {
      "text/plain": [
       "array([[[ 1,  2]],\n",
       "\n",
       "       [[ 3,  4]],\n",
       "\n",
       "       [[ 5,  6]],\n",
       "\n",
       "       [[ 7,  8]],\n",
       "\n",
       "       [[ 9, 10]]])"
      ]
     },
     "execution_count": 144,
     "metadata": {},
     "output_type": "execute_result"
    }
   ],
   "source": [
    "np.swapaxes(b,0,1)"
   ]
  },
  {
   "cell_type": "code",
   "execution_count": 145,
   "metadata": {},
   "outputs": [
    {
     "data": {
      "text/plain": [
       "array([[[ 1,  2]],\n",
       "\n",
       "       [[ 3,  4]],\n",
       "\n",
       "       [[ 5,  6]],\n",
       "\n",
       "       [[ 7,  8]],\n",
       "\n",
       "       [[ 9, 10]]])"
      ]
     },
     "execution_count": 145,
     "metadata": {},
     "output_type": "execute_result"
    }
   ],
   "source": [
    "np.swapaxes(b,1,0)"
   ]
  },
  {
   "cell_type": "code",
   "execution_count": 146,
   "metadata": {},
   "outputs": [
    {
     "data": {
      "text/plain": [
       "array([[[ 1,  2,  3,  4],\n",
       "        [ 5,  6,  7,  8],\n",
       "        [ 9, 10, 11, 12]],\n",
       "\n",
       "       [[13, 14, 15, 16],\n",
       "        [17, 18, 19, 20],\n",
       "        [21, 22, 23, 24]]])"
      ]
     },
     "execution_count": 146,
     "metadata": {},
     "output_type": "execute_result"
    }
   ],
   "source": [
    "np.arange(1,25).reshape(2,3,4)"
   ]
  },
  {
   "cell_type": "code",
   "execution_count": 149,
   "metadata": {},
   "outputs": [],
   "source": [
    "g=np.arange(1,33).reshape(2,4,4)"
   ]
  },
  {
   "cell_type": "code",
   "execution_count": 151,
   "metadata": {},
   "outputs": [
    {
     "data": {
      "text/plain": [
       "array([[[ 1,  5,  9, 13],\n",
       "        [ 2,  6, 10, 14],\n",
       "        [ 3,  7, 11, 15],\n",
       "        [ 4,  8, 12, 16]],\n",
       "\n",
       "       [[17, 21, 25, 29],\n",
       "        [18, 22, 26, 30],\n",
       "        [19, 23, 27, 31],\n",
       "        [20, 24, 28, 32]]])"
      ]
     },
     "execution_count": 151,
     "metadata": {},
     "output_type": "execute_result"
    }
   ],
   "source": [
    "np.swapaxes(g,2,1)"
   ]
  },
  {
   "cell_type": "markdown",
   "metadata": {},
   "source": [
    "## Joining of numpy arrays,Concatinating, \n",
    "## for concatinating Dimensions must match."
   ]
  },
  {
   "cell_type": "code",
   "execution_count": 152,
   "metadata": {},
   "outputs": [],
   "source": [
    "a=np.arange(1,10,1)"
   ]
  },
  {
   "cell_type": "code",
   "execution_count": 153,
   "metadata": {},
   "outputs": [],
   "source": [
    "b=np.arange(11,20,1)"
   ]
  },
  {
   "cell_type": "code",
   "execution_count": 158,
   "metadata": {},
   "outputs": [],
   "source": [
    "c=np.concatenate((a,b))"
   ]
  },
  {
   "cell_type": "code",
   "execution_count": 159,
   "metadata": {},
   "outputs": [
    {
     "data": {
      "text/plain": [
       "array([ 1,  2,  3,  4,  5,  6,  7,  8,  9, 11, 12, 13, 14, 15, 16, 17, 18,\n",
       "       19])"
      ]
     },
     "execution_count": 159,
     "metadata": {},
     "output_type": "execute_result"
    }
   ],
   "source": [
    "c"
   ]
  },
  {
   "cell_type": "code",
   "execution_count": 165,
   "metadata": {},
   "outputs": [
    {
     "data": {
      "text/plain": [
       "array([[1, 2, 3],\n",
       "       [4, 5, 6],\n",
       "       [7, 8, 9]])"
      ]
     },
     "execution_count": 165,
     "metadata": {},
     "output_type": "execute_result"
    }
   ],
   "source": [
    "a=np.arange(1,10,1).reshape(3,3)\n",
    "a"
   ]
  },
  {
   "cell_type": "code",
   "execution_count": 166,
   "metadata": {},
   "outputs": [
    {
     "data": {
      "text/plain": [
       "array([[11, 12, 13],\n",
       "       [14, 15, 16],\n",
       "       [17, 18, 19]])"
      ]
     },
     "execution_count": 166,
     "metadata": {},
     "output_type": "execute_result"
    }
   ],
   "source": [
    "b=np.arange(11,20,1).reshape(3,3)\n",
    "b"
   ]
  },
  {
   "cell_type": "code",
   "execution_count": 163,
   "metadata": {},
   "outputs": [],
   "source": [
    "c=np.concatenate((a,b))"
   ]
  },
  {
   "cell_type": "code",
   "execution_count": 164,
   "metadata": {},
   "outputs": [
    {
     "data": {
      "text/plain": [
       "array([[ 1,  2,  3],\n",
       "       [ 4,  5,  6],\n",
       "       [ 7,  8,  9],\n",
       "       [11, 12, 13],\n",
       "       [14, 15, 16],\n",
       "       [17, 18, 19]])"
      ]
     },
     "execution_count": 164,
     "metadata": {},
     "output_type": "execute_result"
    }
   ],
   "source": [
    "c"
   ]
  },
  {
   "cell_type": "code",
   "execution_count": 167,
   "metadata": {},
   "outputs": [
    {
     "data": {
      "text/plain": [
       "(6, 3)"
      ]
     },
     "execution_count": 167,
     "metadata": {},
     "output_type": "execute_result"
    }
   ],
   "source": [
    "c.shape"
   ]
  },
  {
   "cell_type": "markdown",
   "metadata": {},
   "source": [
    "# 5 DIMENSIONAL ARRAY"
   ]
  },
  {
   "cell_type": "code",
   "execution_count": 180,
   "metadata": {},
   "outputs": [],
   "source": [
    "d=np.arange(1,721,1).reshape(2,3,4,5,6)"
   ]
  },
  {
   "cell_type": "code",
   "execution_count": 181,
   "metadata": {},
   "outputs": [
    {
     "data": {
      "text/plain": [
       "array([[[[[  1,   2,   3,   4,   5,   6],\n",
       "          [  7,   8,   9,  10,  11,  12],\n",
       "          [ 13,  14,  15,  16,  17,  18],\n",
       "          [ 19,  20,  21,  22,  23,  24],\n",
       "          [ 25,  26,  27,  28,  29,  30]],\n",
       "\n",
       "         [[ 31,  32,  33,  34,  35,  36],\n",
       "          [ 37,  38,  39,  40,  41,  42],\n",
       "          [ 43,  44,  45,  46,  47,  48],\n",
       "          [ 49,  50,  51,  52,  53,  54],\n",
       "          [ 55,  56,  57,  58,  59,  60]],\n",
       "\n",
       "         [[ 61,  62,  63,  64,  65,  66],\n",
       "          [ 67,  68,  69,  70,  71,  72],\n",
       "          [ 73,  74,  75,  76,  77,  78],\n",
       "          [ 79,  80,  81,  82,  83,  84],\n",
       "          [ 85,  86,  87,  88,  89,  90]],\n",
       "\n",
       "         [[ 91,  92,  93,  94,  95,  96],\n",
       "          [ 97,  98,  99, 100, 101, 102],\n",
       "          [103, 104, 105, 106, 107, 108],\n",
       "          [109, 110, 111, 112, 113, 114],\n",
       "          [115, 116, 117, 118, 119, 120]]],\n",
       "\n",
       "\n",
       "        [[[121, 122, 123, 124, 125, 126],\n",
       "          [127, 128, 129, 130, 131, 132],\n",
       "          [133, 134, 135, 136, 137, 138],\n",
       "          [139, 140, 141, 142, 143, 144],\n",
       "          [145, 146, 147, 148, 149, 150]],\n",
       "\n",
       "         [[151, 152, 153, 154, 155, 156],\n",
       "          [157, 158, 159, 160, 161, 162],\n",
       "          [163, 164, 165, 166, 167, 168],\n",
       "          [169, 170, 171, 172, 173, 174],\n",
       "          [175, 176, 177, 178, 179, 180]],\n",
       "\n",
       "         [[181, 182, 183, 184, 185, 186],\n",
       "          [187, 188, 189, 190, 191, 192],\n",
       "          [193, 194, 195, 196, 197, 198],\n",
       "          [199, 200, 201, 202, 203, 204],\n",
       "          [205, 206, 207, 208, 209, 210]],\n",
       "\n",
       "         [[211, 212, 213, 214, 215, 216],\n",
       "          [217, 218, 219, 220, 221, 222],\n",
       "          [223, 224, 225, 226, 227, 228],\n",
       "          [229, 230, 231, 232, 233, 234],\n",
       "          [235, 236, 237, 238, 239, 240]]],\n",
       "\n",
       "\n",
       "        [[[241, 242, 243, 244, 245, 246],\n",
       "          [247, 248, 249, 250, 251, 252],\n",
       "          [253, 254, 255, 256, 257, 258],\n",
       "          [259, 260, 261, 262, 263, 264],\n",
       "          [265, 266, 267, 268, 269, 270]],\n",
       "\n",
       "         [[271, 272, 273, 274, 275, 276],\n",
       "          [277, 278, 279, 280, 281, 282],\n",
       "          [283, 284, 285, 286, 287, 288],\n",
       "          [289, 290, 291, 292, 293, 294],\n",
       "          [295, 296, 297, 298, 299, 300]],\n",
       "\n",
       "         [[301, 302, 303, 304, 305, 306],\n",
       "          [307, 308, 309, 310, 311, 312],\n",
       "          [313, 314, 315, 316, 317, 318],\n",
       "          [319, 320, 321, 322, 323, 324],\n",
       "          [325, 326, 327, 328, 329, 330]],\n",
       "\n",
       "         [[331, 332, 333, 334, 335, 336],\n",
       "          [337, 338, 339, 340, 341, 342],\n",
       "          [343, 344, 345, 346, 347, 348],\n",
       "          [349, 350, 351, 352, 353, 354],\n",
       "          [355, 356, 357, 358, 359, 360]]]],\n",
       "\n",
       "\n",
       "\n",
       "       [[[[361, 362, 363, 364, 365, 366],\n",
       "          [367, 368, 369, 370, 371, 372],\n",
       "          [373, 374, 375, 376, 377, 378],\n",
       "          [379, 380, 381, 382, 383, 384],\n",
       "          [385, 386, 387, 388, 389, 390]],\n",
       "\n",
       "         [[391, 392, 393, 394, 395, 396],\n",
       "          [397, 398, 399, 400, 401, 402],\n",
       "          [403, 404, 405, 406, 407, 408],\n",
       "          [409, 410, 411, 412, 413, 414],\n",
       "          [415, 416, 417, 418, 419, 420]],\n",
       "\n",
       "         [[421, 422, 423, 424, 425, 426],\n",
       "          [427, 428, 429, 430, 431, 432],\n",
       "          [433, 434, 435, 436, 437, 438],\n",
       "          [439, 440, 441, 442, 443, 444],\n",
       "          [445, 446, 447, 448, 449, 450]],\n",
       "\n",
       "         [[451, 452, 453, 454, 455, 456],\n",
       "          [457, 458, 459, 460, 461, 462],\n",
       "          [463, 464, 465, 466, 467, 468],\n",
       "          [469, 470, 471, 472, 473, 474],\n",
       "          [475, 476, 477, 478, 479, 480]]],\n",
       "\n",
       "\n",
       "        [[[481, 482, 483, 484, 485, 486],\n",
       "          [487, 488, 489, 490, 491, 492],\n",
       "          [493, 494, 495, 496, 497, 498],\n",
       "          [499, 500, 501, 502, 503, 504],\n",
       "          [505, 506, 507, 508, 509, 510]],\n",
       "\n",
       "         [[511, 512, 513, 514, 515, 516],\n",
       "          [517, 518, 519, 520, 521, 522],\n",
       "          [523, 524, 525, 526, 527, 528],\n",
       "          [529, 530, 531, 532, 533, 534],\n",
       "          [535, 536, 537, 538, 539, 540]],\n",
       "\n",
       "         [[541, 542, 543, 544, 545, 546],\n",
       "          [547, 548, 549, 550, 551, 552],\n",
       "          [553, 554, 555, 556, 557, 558],\n",
       "          [559, 560, 561, 562, 563, 564],\n",
       "          [565, 566, 567, 568, 569, 570]],\n",
       "\n",
       "         [[571, 572, 573, 574, 575, 576],\n",
       "          [577, 578, 579, 580, 581, 582],\n",
       "          [583, 584, 585, 586, 587, 588],\n",
       "          [589, 590, 591, 592, 593, 594],\n",
       "          [595, 596, 597, 598, 599, 600]]],\n",
       "\n",
       "\n",
       "        [[[601, 602, 603, 604, 605, 606],\n",
       "          [607, 608, 609, 610, 611, 612],\n",
       "          [613, 614, 615, 616, 617, 618],\n",
       "          [619, 620, 621, 622, 623, 624],\n",
       "          [625, 626, 627, 628, 629, 630]],\n",
       "\n",
       "         [[631, 632, 633, 634, 635, 636],\n",
       "          [637, 638, 639, 640, 641, 642],\n",
       "          [643, 644, 645, 646, 647, 648],\n",
       "          [649, 650, 651, 652, 653, 654],\n",
       "          [655, 656, 657, 658, 659, 660]],\n",
       "\n",
       "         [[661, 662, 663, 664, 665, 666],\n",
       "          [667, 668, 669, 670, 671, 672],\n",
       "          [673, 674, 675, 676, 677, 678],\n",
       "          [679, 680, 681, 682, 683, 684],\n",
       "          [685, 686, 687, 688, 689, 690]],\n",
       "\n",
       "         [[691, 692, 693, 694, 695, 696],\n",
       "          [697, 698, 699, 700, 701, 702],\n",
       "          [703, 704, 705, 706, 707, 708],\n",
       "          [709, 710, 711, 712, 713, 714],\n",
       "          [715, 716, 717, 718, 719, 720]]]]])"
      ]
     },
     "execution_count": 181,
     "metadata": {},
     "output_type": "execute_result"
    }
   ],
   "source": [
    "d"
   ]
  },
  {
   "cell_type": "markdown",
   "metadata": {},
   "source": [
    "## Splitting and combining of Arrays"
   ]
  },
  {
   "cell_type": "code",
   "execution_count": 2,
   "metadata": {},
   "outputs": [],
   "source": [
    "import numpy as np\n",
    "a=np.arange(1,5,1)"
   ]
  },
  {
   "cell_type": "code",
   "execution_count": 4,
   "metadata": {},
   "outputs": [],
   "source": [
    "b=np.arange(4,10,1)"
   ]
  },
  {
   "cell_type": "code",
   "execution_count": 5,
   "metadata": {},
   "outputs": [
    {
     "data": {
      "text/plain": [
       "array([1, 2, 3, 4, 4, 5, 6, 7, 8, 9])"
      ]
     },
     "execution_count": 5,
     "metadata": {},
     "output_type": "execute_result"
    }
   ],
   "source": [
    "np.concatenate((a,b))"
   ]
  },
  {
   "cell_type": "code",
   "execution_count": 6,
   "metadata": {},
   "outputs": [],
   "source": [
    "c=np.zeros(10)"
   ]
  },
  {
   "cell_type": "code",
   "execution_count": 7,
   "metadata": {},
   "outputs": [
    {
     "data": {
      "text/plain": [
       "array([0., 0., 0., 0., 0., 0., 0., 0., 0., 0.])"
      ]
     },
     "execution_count": 7,
     "metadata": {},
     "output_type": "execute_result"
    }
   ],
   "source": [
    "c"
   ]
  },
  {
   "cell_type": "code",
   "execution_count": 8,
   "metadata": {},
   "outputs": [
    {
     "data": {
      "text/plain": [
       "array([1., 2., 3., 4., 4., 5., 6., 7., 8., 9.])"
      ]
     },
     "execution_count": 8,
     "metadata": {},
     "output_type": "execute_result"
    }
   ],
   "source": [
    "np.concatenate((a,b),out=c)"
   ]
  },
  {
   "cell_type": "code",
   "execution_count": 9,
   "metadata": {},
   "outputs": [
    {
     "data": {
      "text/plain": [
       "array([1., 2., 3., 4., 4., 5., 6., 7., 8., 9.])"
      ]
     },
     "execution_count": 9,
     "metadata": {},
     "output_type": "execute_result"
    }
   ],
   "source": [
    "c"
   ]
  },
  {
   "cell_type": "markdown",
   "metadata": {},
   "source": [
    "### while Concatenating we must check that they must have same dimension"
   ]
  },
  {
   "cell_type": "code",
   "execution_count": 12,
   "metadata": {},
   "outputs": [
    {
     "data": {
      "text/plain": [
       "array([[1, 2, 3],\n",
       "       [4, 5, 6],\n",
       "       [7, 8, 9]])"
      ]
     },
     "execution_count": 12,
     "metadata": {},
     "output_type": "execute_result"
    }
   ],
   "source": [
    "a=np.arange(1,10,1).reshape(3,3)\n",
    "a"
   ]
  },
  {
   "cell_type": "code",
   "execution_count": 13,
   "metadata": {},
   "outputs": [
    {
     "data": {
      "text/plain": [
       "array([[1, 2, 3]])"
      ]
     },
     "execution_count": 13,
     "metadata": {},
     "output_type": "execute_result"
    }
   ],
   "source": [
    "b=np.arange(1,4).reshape(1,3)\n",
    "b"
   ]
  },
  {
   "cell_type": "code",
   "execution_count": 17,
   "metadata": {},
   "outputs": [
    {
     "data": {
      "text/plain": [
       "array([[1, 2, 3],\n",
       "       [4, 5, 6],\n",
       "       [7, 8, 9],\n",
       "       [1, 2, 3]])"
      ]
     },
     "execution_count": 17,
     "metadata": {},
     "output_type": "execute_result"
    }
   ],
   "source": [
    "np.concatenate((a,b))"
   ]
  },
  {
   "cell_type": "markdown",
   "metadata": {},
   "source": [
    "### if we want to concatenate row-wise columns must be eqaul(vice -verse)"
   ]
  },
  {
   "cell_type": "markdown",
   "metadata": {},
   "source": [
    "## * we can also concatenate by using vstack and hstack,\n",
    "## * if we apply vstack on 2 1D Arrays it will be converted into 2D Array ,more over it must be of same dimension, for hstack also react different on 1D Array, it will work at axis=0\n",
    "## in higher dimensions vstack and hstack are same as concatenate\n",
    "## vstack ---->axis=0\n",
    "## hstack......> axis=1"
   ]
  },
  {
   "cell_type": "code",
   "execution_count": 21,
   "metadata": {},
   "outputs": [],
   "source": [
    "a=np.arange(1,5,1)"
   ]
  },
  {
   "cell_type": "code",
   "execution_count": 22,
   "metadata": {},
   "outputs": [],
   "source": [
    "b=np.arange(2,6,1)"
   ]
  },
  {
   "cell_type": "code",
   "execution_count": 23,
   "metadata": {},
   "outputs": [],
   "source": [
    "c=np.arange(3,7,1)"
   ]
  },
  {
   "cell_type": "code",
   "execution_count": 24,
   "metadata": {},
   "outputs": [
    {
     "data": {
      "text/plain": [
       "array([[1, 2, 3, 4],\n",
       "       [2, 3, 4, 5],\n",
       "       [3, 4, 5, 6]])"
      ]
     },
     "execution_count": 24,
     "metadata": {},
     "output_type": "execute_result"
    }
   ],
   "source": [
    "np.vstack((a,b,c))"
   ]
  },
  {
   "cell_type": "markdown",
   "metadata": {},
   "source": [
    "# splitting"
   ]
  },
  {
   "cell_type": "code",
   "execution_count": 25,
   "metadata": {},
   "outputs": [
    {
     "data": {
      "text/plain": [
       "array([1, 2, 3, 4, 5, 6, 7, 8, 9])"
      ]
     },
     "execution_count": 25,
     "metadata": {},
     "output_type": "execute_result"
    }
   ],
   "source": [
    "a=np.arange(1,10)\n",
    "a"
   ]
  },
  {
   "cell_type": "code",
   "execution_count": 27,
   "metadata": {},
   "outputs": [
    {
     "data": {
      "text/plain": [
       "[array([1, 2, 3]), array([4, 5, 6]), array([7, 8, 9])]"
      ]
     },
     "execution_count": 27,
     "metadata": {},
     "output_type": "execute_result"
    }
   ],
   "source": [
    "np.split(a,3)"
   ]
  },
  {
   "cell_type": "code",
   "execution_count": 28,
   "metadata": {},
   "outputs": [
    {
     "data": {
      "text/plain": [
       "array([[ 1,  2,  3],\n",
       "       [ 4,  5,  6],\n",
       "       [ 7,  8,  9],\n",
       "       [10, 11, 12]])"
      ]
     },
     "execution_count": 28,
     "metadata": {},
     "output_type": "execute_result"
    }
   ],
   "source": [
    "b=np.arange(1,13).reshape(4,3)\n",
    "b"
   ]
  },
  {
   "cell_type": "code",
   "execution_count": 30,
   "metadata": {},
   "outputs": [
    {
     "data": {
      "text/plain": [
       "[array([[1, 2, 3],\n",
       "        [4, 5, 6]]),\n",
       " array([[ 7,  8,  9],\n",
       "        [10, 11, 12]])]"
      ]
     },
     "execution_count": 30,
     "metadata": {},
     "output_type": "execute_result"
    }
   ],
   "source": [
    "np.split(b,2)"
   ]
  },
  {
   "cell_type": "code",
   "execution_count": 31,
   "metadata": {},
   "outputs": [
    {
     "data": {
      "text/plain": [
       "[array([[1, 2, 3],\n",
       "        [4, 5, 6]]),\n",
       " array([[ 7,  8,  9],\n",
       "        [10, 11, 12]])]"
      ]
     },
     "execution_count": 31,
     "metadata": {},
     "output_type": "execute_result"
    }
   ],
   "source": [
    "np.vsplit(b,2)"
   ]
  },
  {
   "cell_type": "code",
   "execution_count": 36,
   "metadata": {},
   "outputs": [
    {
     "data": {
      "text/plain": [
       "array([[ 1,  2,  3,  4],\n",
       "       [ 5,  6,  7,  8],\n",
       "       [ 9, 10, 11, 12],\n",
       "       [13, 14, 15, 16]])"
      ]
     },
     "execution_count": 36,
     "metadata": {},
     "output_type": "execute_result"
    }
   ],
   "source": [
    "d=np.arange(1,17).reshape(4,4)\n",
    "d"
   ]
  },
  {
   "cell_type": "code",
   "execution_count": 37,
   "metadata": {},
   "outputs": [
    {
     "data": {
      "text/plain": [
       "[array([[ 1,  2],\n",
       "        [ 5,  6],\n",
       "        [ 9, 10],\n",
       "        [13, 14]]),\n",
       " array([[ 3,  4],\n",
       "        [ 7,  8],\n",
       "        [11, 12],\n",
       "        [15, 16]])]"
      ]
     },
     "execution_count": 37,
     "metadata": {},
     "output_type": "execute_result"
    }
   ],
   "source": [
    "np.hsplit(d,2)"
   ]
  },
  {
   "cell_type": "markdown",
   "metadata": {},
   "source": [
    "# INSERT and DELETE"
   ]
  },
  {
   "cell_type": "code",
   "execution_count": 39,
   "metadata": {},
   "outputs": [
    {
     "data": {
      "text/plain": [
       "array([1, 2, 3, 4, 5, 6, 7, 8, 9])"
      ]
     },
     "execution_count": 39,
     "metadata": {},
     "output_type": "execute_result"
    }
   ],
   "source": [
    "a=np.arange(1,10)\n",
    "a"
   ]
  },
  {
   "cell_type": "markdown",
   "metadata": {},
   "source": [
    "## insert converts floating value to integer and insert"
   ]
  },
  {
   "cell_type": "code",
   "execution_count": 46,
   "metadata": {},
   "outputs": [
    {
     "data": {
      "text/plain": [
       "array([ 1, 50,  2,  3,  4,  5, 50,  6, 50,  7, 50,  8,  9])"
      ]
     },
     "execution_count": 46,
     "metadata": {},
     "output_type": "execute_result"
    }
   ],
   "source": [
    "b=np.insert(a,(1,5,6,7),50.55)\n",
    "b"
   ]
  },
  {
   "cell_type": "markdown",
   "metadata": {},
   "source": [
    "## if axis=None the input array might be of any dimension it will be flattened"
   ]
  },
  {
   "cell_type": "code",
   "execution_count": 52,
   "metadata": {},
   "outputs": [
    {
     "data": {
      "text/plain": [
       "array([[[[[  0,   1,   2,   3,   4,   5],\n",
       "          [  6,   7,   8,   9,  10,  11],\n",
       "          [ 12,  13,  14,  15,  16,  17],\n",
       "          [ 18,  19,  20,  21,  22,  23],\n",
       "          [ 24,  25,  26,  27,  28,  29]],\n",
       "\n",
       "         [[ 30,  31,  32,  33,  34,  35],\n",
       "          [ 36,  37,  38,  39,  40,  41],\n",
       "          [ 42,  43,  44,  45,  46,  47],\n",
       "          [ 48,  49,  50,  51,  52,  53],\n",
       "          [ 54,  55,  56,  57,  58,  59]],\n",
       "\n",
       "         [[ 60,  61,  62,  63,  64,  65],\n",
       "          [ 66,  67,  68,  69,  70,  71],\n",
       "          [ 72,  73,  74,  75,  76,  77],\n",
       "          [ 78,  79,  80,  81,  82,  83],\n",
       "          [ 84,  85,  86,  87,  88,  89]],\n",
       "\n",
       "         [[ 90,  91,  92,  93,  94,  95],\n",
       "          [ 96,  97,  98,  99, 100, 101],\n",
       "          [102, 103, 104, 105, 106, 107],\n",
       "          [108, 109, 110, 111, 112, 113],\n",
       "          [114, 115, 116, 117, 118, 119]]],\n",
       "\n",
       "\n",
       "        [[[120, 121, 122, 123, 124, 125],\n",
       "          [126, 127, 128, 129, 130, 131],\n",
       "          [132, 133, 134, 135, 136, 137],\n",
       "          [138, 139, 140, 141, 142, 143],\n",
       "          [144, 145, 146, 147, 148, 149]],\n",
       "\n",
       "         [[150, 151, 152, 153, 154, 155],\n",
       "          [156, 157, 158, 159, 160, 161],\n",
       "          [162, 163, 164, 165, 166, 167],\n",
       "          [168, 169, 170, 171, 172, 173],\n",
       "          [174, 175, 176, 177, 178, 179]],\n",
       "\n",
       "         [[180, 181, 182, 183, 184, 185],\n",
       "          [186, 187, 188, 189, 190, 191],\n",
       "          [192, 193, 194, 195, 196, 197],\n",
       "          [198, 199, 200, 201, 202, 203],\n",
       "          [204, 205, 206, 207, 208, 209]],\n",
       "\n",
       "         [[210, 211, 212, 213, 214, 215],\n",
       "          [216, 217, 218, 219, 220, 221],\n",
       "          [222, 223, 224, 225, 226, 227],\n",
       "          [228, 229, 230, 231, 232, 233],\n",
       "          [234, 235, 236, 237, 238, 239]]],\n",
       "\n",
       "\n",
       "        [[[240, 241, 242, 243, 244, 245],\n",
       "          [246, 247, 248, 249, 250, 251],\n",
       "          [252, 253, 254, 255, 256, 257],\n",
       "          [258, 259, 260, 261, 262, 263],\n",
       "          [264, 265, 266, 267, 268, 269]],\n",
       "\n",
       "         [[270, 271, 272, 273, 274, 275],\n",
       "          [276, 277, 278, 279, 280, 281],\n",
       "          [282, 283, 284, 285, 286, 287],\n",
       "          [288, 289, 290, 291, 292, 293],\n",
       "          [294, 295, 296, 297, 298, 299]],\n",
       "\n",
       "         [[300, 301, 302, 303, 304, 305],\n",
       "          [306, 307, 308, 309, 310, 311],\n",
       "          [312, 313, 314, 315, 316, 317],\n",
       "          [318, 319, 320, 321, 322, 323],\n",
       "          [324, 325, 326, 327, 328, 329]],\n",
       "\n",
       "         [[330, 331, 332, 333, 334, 335],\n",
       "          [336, 337, 338, 339, 340, 341],\n",
       "          [342, 343, 344, 345, 346, 347],\n",
       "          [348, 349, 350, 351, 352, 353],\n",
       "          [354, 355, 356, 357, 358, 359]]]],\n",
       "\n",
       "\n",
       "\n",
       "       [[[[360, 361, 362, 363, 364, 365],\n",
       "          [366, 367, 368, 369, 370, 371],\n",
       "          [372, 373, 374, 375, 376, 377],\n",
       "          [378, 379, 380, 381, 382, 383],\n",
       "          [384, 385, 386, 387, 388, 389]],\n",
       "\n",
       "         [[390, 391, 392, 393, 394, 395],\n",
       "          [396, 397, 398, 399, 400, 401],\n",
       "          [402, 403, 404, 405, 406, 407],\n",
       "          [408, 409, 410, 411, 412, 413],\n",
       "          [414, 415, 416, 417, 418, 419]],\n",
       "\n",
       "         [[420, 421, 422, 423, 424, 425],\n",
       "          [426, 427, 428, 429, 430, 431],\n",
       "          [432, 433, 434, 435, 436, 437],\n",
       "          [438, 439, 440, 441, 442, 443],\n",
       "          [444, 445, 446, 447, 448, 449]],\n",
       "\n",
       "         [[450, 451, 452, 453, 454, 455],\n",
       "          [456, 457, 458, 459, 460, 461],\n",
       "          [462, 463, 464, 465, 466, 467],\n",
       "          [468, 469, 470, 471, 472, 473],\n",
       "          [474, 475, 476, 477, 478, 479]]],\n",
       "\n",
       "\n",
       "        [[[480, 481, 482, 483, 484, 485],\n",
       "          [486, 487, 488, 489, 490, 491],\n",
       "          [492, 493, 494, 495, 496, 497],\n",
       "          [498, 499, 500, 501, 502, 503],\n",
       "          [504, 505, 506, 507, 508, 509]],\n",
       "\n",
       "         [[510, 511, 512, 513, 514, 515],\n",
       "          [516, 517, 518, 519, 520, 521],\n",
       "          [522, 523, 524, 525, 526, 527],\n",
       "          [528, 529, 530, 531, 532, 533],\n",
       "          [534, 535, 536, 537, 538, 539]],\n",
       "\n",
       "         [[540, 541, 542, 543, 544, 545],\n",
       "          [546, 547, 548, 549, 550, 551],\n",
       "          [552, 553, 554, 555, 556, 557],\n",
       "          [558, 559, 560, 561, 562, 563],\n",
       "          [564, 565, 566, 567, 568, 569]],\n",
       "\n",
       "         [[570, 571, 572, 573, 574, 575],\n",
       "          [576, 577, 578, 579, 580, 581],\n",
       "          [582, 583, 584, 585, 586, 587],\n",
       "          [588, 589, 590, 591, 592, 593],\n",
       "          [594, 595, 596, 597, 598, 599]]],\n",
       "\n",
       "\n",
       "        [[[600, 601, 602, 603, 604, 605],\n",
       "          [606, 607, 608, 609, 610, 611],\n",
       "          [612, 613, 614, 615, 616, 617],\n",
       "          [618, 619, 620, 621, 622, 623],\n",
       "          [624, 625, 626, 627, 628, 629]],\n",
       "\n",
       "         [[630, 631, 632, 633, 634, 635],\n",
       "          [636, 637, 638, 639, 640, 641],\n",
       "          [642, 643, 644, 645, 646, 647],\n",
       "          [648, 649, 650, 651, 652, 653],\n",
       "          [654, 655, 656, 657, 658, 659]],\n",
       "\n",
       "         [[660, 661, 662, 663, 664, 665],\n",
       "          [666, 667, 668, 669, 670, 671],\n",
       "          [672, 673, 674, 675, 676, 677],\n",
       "          [678, 679, 680, 681, 682, 683],\n",
       "          [684, 685, 686, 687, 688, 689]],\n",
       "\n",
       "         [[690, 691, 692, 693, 694, 695],\n",
       "          [696, 697, 698, 699, 700, 701],\n",
       "          [702, 703, 704, 705, 706, 707],\n",
       "          [708, 709, 710, 711, 712, 713],\n",
       "          [714, 715, 716, 717, 718, 719]]]]])"
      ]
     },
     "execution_count": 52,
     "metadata": {},
     "output_type": "execute_result"
    }
   ],
   "source": [
    "a=np.arange(720).reshape(2,3,4,5,6)\n",
    "a"
   ]
  },
  {
   "cell_type": "code",
   "execution_count": 56,
   "metadata": {},
   "outputs": [
    {
     "data": {
      "text/plain": [
       "array([       0,        1, 10000000,        2,        3,        4,\n",
       "              5,        6,        7,        8,        9,       10,\n",
       "             11,       12,       13,       14,       15,       16,\n",
       "             17,       18,       19,       20,       21,       22,\n",
       "             23,       24,       25,       26,       27,       28,\n",
       "             29,       30,       31,       32,       33,       34,\n",
       "             35,       36,       37,       38,       39,       40,\n",
       "             41,       42,       43,       44,       45,       46,\n",
       "             47,       48,       49,       50,       51,       52,\n",
       "             53,       54,       55,       56,       57,       58,\n",
       "             59,       60,       61,       62,       63,       64,\n",
       "             65,       66,       67,       68,       69,       70,\n",
       "             71,       72,       73,       74,       75,       76,\n",
       "             77,       78,       79,       80,       81,       82,\n",
       "             83,       84,       85,       86,       87,       88,\n",
       "             89,       90,       91,       92,       93,       94,\n",
       "             95,       96,       97,       98,       99,      100,\n",
       "            101,      102,      103,      104,      105,      106,\n",
       "            107,      108,      109,      110,      111,      112,\n",
       "            113,      114,      115,      116,      117,      118,\n",
       "            119,      120,      121,      122,      123,      124,\n",
       "            125,      126,      127,      128,      129,      130,\n",
       "            131,      132,      133,      134,      135,      136,\n",
       "            137,      138,      139,      140,      141,      142,\n",
       "            143,      144,      145,      146,      147,      148,\n",
       "            149,      150,      151,      152,      153,      154,\n",
       "            155,      156,      157,      158,      159,      160,\n",
       "            161,      162,      163,      164,      165,      166,\n",
       "            167,      168,      169,      170,      171,      172,\n",
       "            173,      174,      175,      176,      177,      178,\n",
       "            179,      180,      181,      182,      183,      184,\n",
       "            185,      186,      187,      188,      189,      190,\n",
       "            191,      192,      193,      194,      195,      196,\n",
       "            197,      198,      199,      200,      201,      202,\n",
       "            203,      204,      205,      206,      207,      208,\n",
       "            209,      210,      211,      212,      213,      214,\n",
       "            215,      216,      217,      218,      219,      220,\n",
       "            221,      222,      223,      224,      225,      226,\n",
       "            227,      228,      229,      230,      231,      232,\n",
       "            233,      234,      235,      236,      237,      238,\n",
       "            239,      240,      241,      242,      243,      244,\n",
       "            245,      246,      247,      248,      249,      250,\n",
       "            251,      252,      253,      254,      255,      256,\n",
       "            257,      258,      259,      260,      261,      262,\n",
       "            263,      264,      265,      266,      267,      268,\n",
       "            269,      270,      271,      272,      273,      274,\n",
       "            275,      276,      277,      278,      279,      280,\n",
       "            281,      282,      283,      284,      285,      286,\n",
       "            287,      288,      289,      290,      291,      292,\n",
       "            293,      294,      295,      296,      297,      298,\n",
       "            299,      300,      301,      302,      303,      304,\n",
       "            305,      306,      307,      308,      309,      310,\n",
       "            311,      312,      313,      314,      315,      316,\n",
       "            317,      318,      319,      320,      321,      322,\n",
       "            323,      324,      325,      326,      327,      328,\n",
       "            329,      330,      331,      332,      333,      334,\n",
       "            335,      336,      337,      338,      339,      340,\n",
       "            341,      342,      343,      344,      345,      346,\n",
       "            347,      348,      349,      350,      351,      352,\n",
       "            353,      354,      355,      356,      357,      358,\n",
       "            359,      360,      361,      362,      363,      364,\n",
       "            365,      366,      367,      368,      369,      370,\n",
       "            371,      372,      373,      374,      375,      376,\n",
       "            377,      378,      379,      380,      381,      382,\n",
       "            383,      384,      385,      386,      387,      388,\n",
       "            389,      390,      391,      392,      393,      394,\n",
       "            395,      396,      397,      398,      399,      400,\n",
       "            401,      402,      403,      404,      405,      406,\n",
       "            407,      408,      409,      410,      411,      412,\n",
       "            413,      414,      415,      416,      417,      418,\n",
       "            419,      420,      421,      422,      423,      424,\n",
       "            425,      426,      427,      428,      429,      430,\n",
       "            431,      432,      433,      434,      435,      436,\n",
       "            437,      438,      439,      440,      441,      442,\n",
       "            443,      444,      445,      446,      447,      448,\n",
       "            449,      450,      451,      452,      453,      454,\n",
       "            455,      456,      457,      458,      459,      460,\n",
       "            461,      462,      463,      464,      465,      466,\n",
       "            467,      468,      469,      470,      471,      472,\n",
       "            473,      474,      475,      476,      477,      478,\n",
       "            479,      480,      481,      482,      483,      484,\n",
       "            485,      486,      487,      488,      489,      490,\n",
       "            491,      492,      493,      494,      495,      496,\n",
       "            497,      498,      499,      500,      501,      502,\n",
       "            503,      504,      505,      506,      507,      508,\n",
       "            509,      510,      511,      512,      513,      514,\n",
       "            515,      516,      517,      518,      519,      520,\n",
       "            521,      522,      523,      524,      525,      526,\n",
       "            527,      528,      529,      530,      531,      532,\n",
       "            533,      534,      535,      536,      537,      538,\n",
       "            539,      540,      541,      542,      543,      544,\n",
       "            545,      546,      547,      548,      549,      550,\n",
       "            551,      552,      553,      554,      555,      556,\n",
       "            557,      558,      559,      560,      561,      562,\n",
       "            563,      564,      565,      566,      567,      568,\n",
       "            569,      570,      571,      572,      573,      574,\n",
       "            575,      576,      577,      578,      579,      580,\n",
       "            581,      582,      583,      584,      585,      586,\n",
       "            587,      588,      589,      590,      591,      592,\n",
       "            593,      594,      595,      596,      597,      598,\n",
       "            599,      600,      601,      602,      603,      604,\n",
       "            605,      606,      607,      608,      609,      610,\n",
       "            611,      612,      613,      614,      615,      616,\n",
       "            617,      618,      619,      620,      621,      622,\n",
       "            623,      624,      625,      626,      627,      628,\n",
       "            629,      630,      631,      632,      633,      634,\n",
       "            635,      636,      637,      638,      639,      640,\n",
       "            641,      642,      643,      644,      645,      646,\n",
       "            647,      648,      649,      650,      651,      652,\n",
       "            653,      654,      655,      656,      657,      658,\n",
       "            659,      660,      661,      662,      663,      664,\n",
       "            665,      666,      667,      668,      669,      670,\n",
       "            671,      672,      673,      674,      675,      676,\n",
       "            677,      678,      679,      680,      681,      682,\n",
       "            683,      684,      685,      686,      687,      688,\n",
       "            689,      690,      691,      692,      693,      694,\n",
       "            695,      696,      697,      698,      699,      700,\n",
       "            701,      702,      703,      704,      705,      706,\n",
       "            707,      708,      709,      710,      711,      712,\n",
       "            713,      714,      715,      716,      717,      718,\n",
       "            719])"
      ]
     },
     "execution_count": 56,
     "metadata": {},
     "output_type": "execute_result"
    }
   ],
   "source": [
    "np.insert(a,2,10000000)"
   ]
  },
  {
   "cell_type": "markdown",
   "metadata": {},
   "source": [
    "## for higher dimensions we can give axis=0 or axis=1\n",
    "## for less columns it will regenerate , for list it must give exact size other-wise it will give error"
   ]
  },
  {
   "cell_type": "code",
   "execution_count": 59,
   "metadata": {},
   "outputs": [
    {
     "data": {
      "text/plain": [
       "array([[1, 2, 3],\n",
       "       [4, 5, 6],\n",
       "       [7, 8, 9]])"
      ]
     },
     "execution_count": 59,
     "metadata": {},
     "output_type": "execute_result"
    }
   ],
   "source": [
    "a=np.arange(1,10,1).reshape(3,3)\n",
    "a"
   ]
  },
  {
   "cell_type": "code",
   "execution_count": 60,
   "metadata": {},
   "outputs": [
    {
     "data": {
      "text/plain": [
       "array([[ 1,  2,  3],\n",
       "       [ 4,  5,  6],\n",
       "       [25, 25, 25],\n",
       "       [ 7,  8,  9]])"
      ]
     },
     "execution_count": 60,
     "metadata": {},
     "output_type": "execute_result"
    }
   ],
   "source": [
    "np.insert(a,2,25,axis=0)"
   ]
  },
  {
   "cell_type": "code",
   "execution_count": 61,
   "metadata": {},
   "outputs": [
    {
     "data": {
      "text/plain": [
       "array([[ 1,  2, 25,  3],\n",
       "       [ 4,  5, 25,  6],\n",
       "       [ 7,  8, 25,  9]])"
      ]
     },
     "execution_count": 61,
     "metadata": {},
     "output_type": "execute_result"
    }
   ],
   "source": [
    "np.insert(a,2,25,axis=1)"
   ]
  },
  {
   "cell_type": "code",
   "execution_count": 64,
   "metadata": {},
   "outputs": [
    {
     "ename": "ValueError",
     "evalue": "could not broadcast input array from shape (1,4) into shape (1,3)",
     "output_type": "error",
     "traceback": [
      "\u001b[1;31m---------------------------------------------------------------------------\u001b[0m",
      "\u001b[1;31mValueError\u001b[0m                                Traceback (most recent call last)",
      "\u001b[1;32m<ipython-input-64-4154b8e3cb2e>\u001b[0m in \u001b[0;36m<module>\u001b[1;34m\u001b[0m\n\u001b[1;32m----> 1\u001b[1;33m \u001b[0mnp\u001b[0m\u001b[1;33m.\u001b[0m\u001b[0minsert\u001b[0m\u001b[1;33m(\u001b[0m\u001b[0ma\u001b[0m\u001b[1;33m,\u001b[0m\u001b[1;36m2\u001b[0m\u001b[1;33m,\u001b[0m\u001b[1;33m[\u001b[0m\u001b[1;36m1\u001b[0m\u001b[1;33m,\u001b[0m\u001b[1;36m2\u001b[0m\u001b[1;33m,\u001b[0m\u001b[1;36m3\u001b[0m\u001b[1;33m,\u001b[0m\u001b[1;36m4\u001b[0m\u001b[1;33m]\u001b[0m\u001b[1;33m,\u001b[0m\u001b[0maxis\u001b[0m\u001b[1;33m=\u001b[0m\u001b[1;36m0\u001b[0m\u001b[1;33m)\u001b[0m\u001b[1;33m\u001b[0m\u001b[1;33m\u001b[0m\u001b[0m\n\u001b[0m",
      "\u001b[1;32m<__array_function__ internals>\u001b[0m in \u001b[0;36minsert\u001b[1;34m(*args, **kwargs)\u001b[0m\n",
      "\u001b[1;32m~\\AppData\\Roaming\\Python\\Python37\\site-packages\\numpy\\lib\\function_base.py\u001b[0m in \u001b[0;36minsert\u001b[1;34m(arr, obj, values, axis)\u001b[0m\n\u001b[0;32m   4600\u001b[0m         \u001b[0mnew\u001b[0m\u001b[1;33m[\u001b[0m\u001b[0mtuple\u001b[0m\u001b[1;33m(\u001b[0m\u001b[0mslobj\u001b[0m\u001b[1;33m)\u001b[0m\u001b[1;33m]\u001b[0m \u001b[1;33m=\u001b[0m \u001b[0marr\u001b[0m\u001b[1;33m[\u001b[0m\u001b[0mtuple\u001b[0m\u001b[1;33m(\u001b[0m\u001b[0mslobj\u001b[0m\u001b[1;33m)\u001b[0m\u001b[1;33m]\u001b[0m\u001b[1;33m\u001b[0m\u001b[1;33m\u001b[0m\u001b[0m\n\u001b[0;32m   4601\u001b[0m         \u001b[0mslobj\u001b[0m\u001b[1;33m[\u001b[0m\u001b[0maxis\u001b[0m\u001b[1;33m]\u001b[0m \u001b[1;33m=\u001b[0m \u001b[0mslice\u001b[0m\u001b[1;33m(\u001b[0m\u001b[0mindex\u001b[0m\u001b[1;33m,\u001b[0m \u001b[0mindex\u001b[0m\u001b[1;33m+\u001b[0m\u001b[0mnumnew\u001b[0m\u001b[1;33m)\u001b[0m\u001b[1;33m\u001b[0m\u001b[1;33m\u001b[0m\u001b[0m\n\u001b[1;32m-> 4602\u001b[1;33m         \u001b[0mnew\u001b[0m\u001b[1;33m[\u001b[0m\u001b[0mtuple\u001b[0m\u001b[1;33m(\u001b[0m\u001b[0mslobj\u001b[0m\u001b[1;33m)\u001b[0m\u001b[1;33m]\u001b[0m \u001b[1;33m=\u001b[0m \u001b[0mvalues\u001b[0m\u001b[1;33m\u001b[0m\u001b[1;33m\u001b[0m\u001b[0m\n\u001b[0m\u001b[0;32m   4603\u001b[0m         \u001b[0mslobj\u001b[0m\u001b[1;33m[\u001b[0m\u001b[0maxis\u001b[0m\u001b[1;33m]\u001b[0m \u001b[1;33m=\u001b[0m \u001b[0mslice\u001b[0m\u001b[1;33m(\u001b[0m\u001b[0mindex\u001b[0m\u001b[1;33m+\u001b[0m\u001b[0mnumnew\u001b[0m\u001b[1;33m,\u001b[0m \u001b[1;32mNone\u001b[0m\u001b[1;33m)\u001b[0m\u001b[1;33m\u001b[0m\u001b[1;33m\u001b[0m\u001b[0m\n\u001b[0;32m   4604\u001b[0m         \u001b[0mslobj2\u001b[0m \u001b[1;33m=\u001b[0m \u001b[1;33m[\u001b[0m\u001b[0mslice\u001b[0m\u001b[1;33m(\u001b[0m\u001b[1;32mNone\u001b[0m\u001b[1;33m)\u001b[0m\u001b[1;33m]\u001b[0m \u001b[1;33m*\u001b[0m \u001b[0mndim\u001b[0m\u001b[1;33m\u001b[0m\u001b[1;33m\u001b[0m\u001b[0m\n",
      "\u001b[1;31mValueError\u001b[0m: could not broadcast input array from shape (1,4) into shape (1,3)"
     ]
    }
   ],
   "source": [
    "np.insert(a,2,[1,2,3,4],axis=0)"
   ]
  },
  {
   "cell_type": "markdown",
   "metadata": {},
   "source": [
    "# * we cam also use append but it will add  only at the end of the array."
   ]
  },
  {
   "cell_type": "markdown",
   "metadata": {},
   "source": [
    "## * if we append a list it must be a list[list]"
   ]
  },
  {
   "cell_type": "code",
   "execution_count": 65,
   "metadata": {},
   "outputs": [],
   "source": [
    "a=np.arange(1,10,1)"
   ]
  },
  {
   "cell_type": "code",
   "execution_count": 66,
   "metadata": {},
   "outputs": [
    {
     "data": {
      "text/plain": [
       "array([   1,    2,    3,    4,    5,    6,    7,    8,    9, 5000])"
      ]
     },
     "execution_count": 66,
     "metadata": {},
     "output_type": "execute_result"
    }
   ],
   "source": [
    "np.append(a,5000)"
   ]
  },
  {
   "cell_type": "code",
   "execution_count": 67,
   "metadata": {},
   "outputs": [],
   "source": [
    "b=np.arange(1,10,1).reshape(3,3)"
   ]
  },
  {
   "cell_type": "code",
   "execution_count": 68,
   "metadata": {},
   "outputs": [
    {
     "data": {
      "text/plain": [
       "array([[1, 2, 3],\n",
       "       [4, 5, 6],\n",
       "       [7, 8, 9]])"
      ]
     },
     "execution_count": 68,
     "metadata": {},
     "output_type": "execute_result"
    }
   ],
   "source": [
    "b"
   ]
  },
  {
   "cell_type": "code",
   "execution_count": 75,
   "metadata": {},
   "outputs": [
    {
     "data": {
      "text/plain": [
       "array([[1, 2, 3],\n",
       "       [4, 5, 6],\n",
       "       [7, 8, 9],\n",
       "       [4, 5, 6]])"
      ]
     },
     "execution_count": 75,
     "metadata": {},
     "output_type": "execute_result"
    }
   ],
   "source": [
    "np.append(b,[[4,5,6]],axis=0)"
   ]
  },
  {
   "cell_type": "code",
   "execution_count": 77,
   "metadata": {},
   "outputs": [
    {
     "data": {
      "text/plain": [
       "array([[1, 2, 3, 4],\n",
       "       [4, 5, 6, 5],\n",
       "       [7, 8, 9, 6]])"
      ]
     },
     "execution_count": 77,
     "metadata": {},
     "output_type": "execute_result"
    }
   ],
   "source": [
    "np.append(b,[[4],[5],[6]],axis=1)"
   ]
  },
  {
   "cell_type": "markdown",
   "metadata": {},
   "source": [
    "# delete"
   ]
  },
  {
   "cell_type": "code",
   "execution_count": 79,
   "metadata": {},
   "outputs": [],
   "source": [
    "a=np.arange(1,10,1)"
   ]
  },
  {
   "cell_type": "markdown",
   "metadata": {},
   "source": [
    "## we must mention only index here"
   ]
  },
  {
   "cell_type": "code",
   "execution_count": 80,
   "metadata": {},
   "outputs": [
    {
     "data": {
      "text/plain": [
       "array([1, 2, 4, 5, 6, 7, 8, 9])"
      ]
     },
     "execution_count": 80,
     "metadata": {},
     "output_type": "execute_result"
    }
   ],
   "source": [
    "np.delete(a,2)"
   ]
  },
  {
   "cell_type": "code",
   "execution_count": 84,
   "metadata": {},
   "outputs": [
    {
     "data": {
      "text/plain": [
       "array([[3, 3, 3],\n",
       "       [6, 5, 8],\n",
       "       [5, 8, 7]])"
      ]
     },
     "execution_count": 84,
     "metadata": {},
     "output_type": "execute_result"
    }
   ],
   "source": [
    "b=np.random.randint(1,10,size=(3,3))\n",
    "b"
   ]
  },
  {
   "cell_type": "code",
   "execution_count": 87,
   "metadata": {},
   "outputs": [
    {
     "data": {
      "text/plain": [
       "array([3, 3, 6, 5, 8, 5, 8, 7])"
      ]
     },
     "execution_count": 87,
     "metadata": {},
     "output_type": "execute_result"
    }
   ],
   "source": [
    "np.delete(b,2)"
   ]
  },
  {
   "cell_type": "code",
   "execution_count": 85,
   "metadata": {},
   "outputs": [
    {
     "data": {
      "text/plain": [
       "array([[3, 3, 3],\n",
       "       [5, 8, 7]])"
      ]
     },
     "execution_count": 85,
     "metadata": {},
     "output_type": "execute_result"
    }
   ],
   "source": [
    "np.delete(b,1,axis=0)"
   ]
  },
  {
   "cell_type": "code",
   "execution_count": 86,
   "metadata": {},
   "outputs": [
    {
     "data": {
      "text/plain": [
       "array([[3, 3],\n",
       "       [6, 8],\n",
       "       [5, 7]])"
      ]
     },
     "execution_count": 86,
     "metadata": {},
     "output_type": "execute_result"
    }
   ],
   "source": [
    "np.delete(b,1,axis=1)"
   ]
  },
  {
   "cell_type": "markdown",
   "metadata": {},
   "source": [
    "# MATRIX"
   ]
  },
  {
   "cell_type": "markdown",
   "metadata": {},
   "source": [
    "## Matrix is rectangular arrangement of numbers"
   ]
  },
  {
   "cell_type": "markdown",
   "metadata": {},
   "source": [
    "### both array addition and matrix addition are same but difference in multiplication"
   ]
  },
  {
   "cell_type": "code",
   "execution_count": 94,
   "metadata": {},
   "outputs": [
    {
     "data": {
      "text/plain": [
       "array([[1, 2, 3],\n",
       "       [4, 5, 6],\n",
       "       [7, 8, 9]])"
      ]
     },
     "execution_count": 94,
     "metadata": {},
     "output_type": "execute_result"
    }
   ],
   "source": [
    "a=np.arange(1,10,1).reshape(3,3)\n",
    "a"
   ]
  },
  {
   "cell_type": "code",
   "execution_count": 89,
   "metadata": {},
   "outputs": [],
   "source": [
    "b=np.arange(11,20,1).reshape(3,3)"
   ]
  },
  {
   "cell_type": "code",
   "execution_count": 90,
   "metadata": {},
   "outputs": [
    {
     "data": {
      "text/plain": [
       "array([[ 90,  96, 102],\n",
       "       [216, 231, 246],\n",
       "       [342, 366, 390]])"
      ]
     },
     "execution_count": 90,
     "metadata": {},
     "output_type": "execute_result"
    }
   ],
   "source": [
    "a.dot(b)"
   ]
  },
  {
   "cell_type": "code",
   "execution_count": 91,
   "metadata": {},
   "outputs": [
    {
     "data": {
      "text/plain": [
       "array([[ 11,  24,  39],\n",
       "       [ 56,  75,  96],\n",
       "       [119, 144, 171]])"
      ]
     },
     "execution_count": 91,
     "metadata": {},
     "output_type": "execute_result"
    }
   ],
   "source": [
    "a*b"
   ]
  },
  {
   "cell_type": "code",
   "execution_count": 95,
   "metadata": {},
   "outputs": [
    {
     "data": {
      "text/plain": [
       "array([[1, 4, 7],\n",
       "       [2, 5, 8],\n",
       "       [3, 6, 9]])"
      ]
     },
     "execution_count": 95,
     "metadata": {},
     "output_type": "execute_result"
    }
   ],
   "source": [
    "np.transpose(a)"
   ]
  },
  {
   "cell_type": "markdown",
   "metadata": {},
   "source": [
    " ### Creating a matrix by using Matrix Class"
   ]
  },
  {
   "cell_type": "code",
   "execution_count": 98,
   "metadata": {},
   "outputs": [],
   "source": [
    "a=np.matrix(\"1 2;3 4\")"
   ]
  },
  {
   "cell_type": "code",
   "execution_count": 99,
   "metadata": {},
   "outputs": [
    {
     "data": {
      "text/plain": [
       "matrix([[1, 2],\n",
       "        [3, 4]])"
      ]
     },
     "execution_count": 99,
     "metadata": {},
     "output_type": "execute_result"
    }
   ],
   "source": [
    "a"
   ]
  },
  {
   "cell_type": "code",
   "execution_count": 101,
   "metadata": {},
   "outputs": [
    {
     "data": {
      "text/plain": [
       "matrix([[10, 20],\n",
       "        [30, 40]])"
      ]
     },
     "execution_count": 101,
     "metadata": {},
     "output_type": "execute_result"
    }
   ],
   "source": [
    "b=np.matrix([[10,20],[30,40]])\n",
    "b"
   ]
  },
  {
   "cell_type": "code",
   "execution_count": 102,
   "metadata": {},
   "outputs": [
    {
     "data": {
      "text/plain": [
       "matrix([[11, 22],\n",
       "        [33, 44]])"
      ]
     },
     "execution_count": 102,
     "metadata": {},
     "output_type": "execute_result"
    }
   ],
   "source": [
    "a+b"
   ]
  },
  {
   "cell_type": "code",
   "execution_count": 103,
   "metadata": {},
   "outputs": [
    {
     "data": {
      "text/plain": [
       "matrix([[ 70, 100],\n",
       "        [150, 220]])"
      ]
     },
     "execution_count": 103,
     "metadata": {},
     "output_type": "execute_result"
    }
   ],
   "source": [
    "a.dot(b)"
   ]
  },
  {
   "cell_type": "code",
   "execution_count": 104,
   "metadata": {},
   "outputs": [
    {
     "data": {
      "text/plain": [
       "matrix([[10, 30],\n",
       "        [20, 40]])"
      ]
     },
     "execution_count": 104,
     "metadata": {},
     "output_type": "execute_result"
    }
   ],
   "source": [
    "np.transpose(b)"
   ]
  },
  {
   "cell_type": "code",
   "execution_count": 105,
   "metadata": {},
   "outputs": [
    {
     "data": {
      "text/plain": [
       "matrix([[ 70, 100],\n",
       "        [150, 220]])"
      ]
     },
     "execution_count": 105,
     "metadata": {},
     "output_type": "execute_result"
    }
   ],
   "source": [
    "a*b"
   ]
  },
  {
   "cell_type": "code",
   "execution_count": 106,
   "metadata": {},
   "outputs": [
    {
     "data": {
      "text/plain": [
       "matrix([[1, 3],\n",
       "        [2, 4]])"
      ]
     },
     "execution_count": 106,
     "metadata": {},
     "output_type": "execute_result"
    }
   ],
   "source": [
    "a.T"
   ]
  },
  {
   "cell_type": "markdown",
   "metadata": {},
   "source": [
    "# LINEAR ALGEBRA"
   ]
  },
  {
   "cell_type": "markdown",
   "metadata": {},
   "source": [
    "### invert a matrix by using linear algebra module"
   ]
  },
  {
   "cell_type": "code",
   "execution_count": 108,
   "metadata": {},
   "outputs": [
    {
     "data": {
      "text/plain": [
       "matrix([[1, 2],\n",
       "        [3, 4]])"
      ]
     },
     "execution_count": 108,
     "metadata": {},
     "output_type": "execute_result"
    }
   ],
   "source": [
    "a"
   ]
  },
  {
   "cell_type": "code",
   "execution_count": 109,
   "metadata": {},
   "outputs": [],
   "source": [
    "b=np.linalg.inv(a)"
   ]
  },
  {
   "cell_type": "markdown",
   "metadata": {},
   "source": [
    "# A *inv(A) = I"
   ]
  },
  {
   "cell_type": "code",
   "execution_count": 110,
   "metadata": {},
   "outputs": [
    {
     "data": {
      "text/plain": [
       "matrix([[1.0000000e+00, 0.0000000e+00],\n",
       "        [8.8817842e-16, 1.0000000e+00]])"
      ]
     },
     "execution_count": 110,
     "metadata": {},
     "output_type": "execute_result"
    }
   ],
   "source": [
    "a.dot(b)"
   ]
  },
  {
   "cell_type": "markdown",
   "metadata": {},
   "source": [
    "## Matrix Power\n",
    "\n",
    "## power =0(identitymatrix)\n",
    "## power =-ve value (finding inverseand apply power on that matrix)\n",
    "## this only works for sqaure matrix only"
   ]
  },
  {
   "cell_type": "code",
   "execution_count": 112,
   "metadata": {},
   "outputs": [
    {
     "data": {
      "text/plain": [
       "matrix([[1, 2],\n",
       "        [3, 4]])"
      ]
     },
     "execution_count": 112,
     "metadata": {},
     "output_type": "execute_result"
    }
   ],
   "source": [
    "a"
   ]
  },
  {
   "cell_type": "code",
   "execution_count": 111,
   "metadata": {},
   "outputs": [
    {
     "data": {
      "text/plain": [
       "matrix([[ 7, 10],\n",
       "        [15, 22]])"
      ]
     },
     "execution_count": 111,
     "metadata": {},
     "output_type": "execute_result"
    }
   ],
   "source": [
    "np.linalg.matrix_power(a,2)"
   ]
  },
  {
   "cell_type": "code",
   "execution_count": 113,
   "metadata": {},
   "outputs": [
    {
     "data": {
      "text/plain": [
       "matrix([[1, 0],\n",
       "        [0, 1]])"
      ]
     },
     "execution_count": 113,
     "metadata": {},
     "output_type": "execute_result"
    }
   ],
   "source": [
    "np.linalg.matrix_power(a,0)"
   ]
  },
  {
   "cell_type": "code",
   "execution_count": 114,
   "metadata": {},
   "outputs": [
    {
     "data": {
      "text/plain": [
       "matrix([[-2. ,  1. ],\n",
       "        [ 1.5, -0.5]])"
      ]
     },
     "execution_count": 114,
     "metadata": {},
     "output_type": "execute_result"
    }
   ],
   "source": [
    "np.linalg.matrix_power(a,-1)"
   ]
  },
  {
   "cell_type": "markdown",
   "metadata": {},
   "source": [
    "## solving Linear Equation using Linear Algebra Model"
   ]
  },
  {
   "cell_type": "markdown",
   "metadata": {},
   "source": [
    "### * converting linear Equations to matrix form and solving the equations\n",
    "### * it must be a square matrix only"
   ]
  },
  {
   "cell_type": "code",
   "execution_count": 115,
   "metadata": {},
   "outputs": [],
   "source": [
    "a=np.array([[1,2],[3,4]])"
   ]
  },
  {
   "cell_type": "code",
   "execution_count": 116,
   "metadata": {},
   "outputs": [],
   "source": [
    "b=np.array([3,4])"
   ]
  },
  {
   "cell_type": "code",
   "execution_count": 117,
   "metadata": {},
   "outputs": [
    {
     "data": {
      "text/plain": [
       "array([-2. ,  2.5])"
      ]
     },
     "execution_count": 117,
     "metadata": {},
     "output_type": "execute_result"
    }
   ],
   "source": [
    "np.linalg.solve(a,b)"
   ]
  },
  {
   "cell_type": "markdown",
   "metadata": {},
   "source": [
    "# DERMINANT OF Matrix"
   ]
  },
  {
   "cell_type": "markdown",
   "metadata": {},
   "source": [
    "## * determent =ad-bc"
   ]
  },
  {
   "cell_type": "code",
   "execution_count": 118,
   "metadata": {},
   "outputs": [
    {
     "data": {
      "text/plain": [
       "array([[1, 2],\n",
       "       [3, 4]])"
      ]
     },
     "execution_count": 118,
     "metadata": {},
     "output_type": "execute_result"
    }
   ],
   "source": [
    "a"
   ]
  },
  {
   "cell_type": "code",
   "execution_count": 121,
   "metadata": {},
   "outputs": [
    {
     "data": {
      "text/plain": [
       "-2.0000000000000004"
      ]
     },
     "execution_count": 121,
     "metadata": {},
     "output_type": "execute_result"
    }
   ],
   "source": [
    "np.linalg.det(a)"
   ]
  },
  {
   "cell_type": "code",
   "execution_count": 122,
   "metadata": {},
   "outputs": [
    {
     "data": {
      "text/plain": [
       "-2.0"
      ]
     },
     "execution_count": 122,
     "metadata": {},
     "output_type": "execute_result"
    }
   ],
   "source": [
    "round(np.linalg.det(a))"
   ]
  },
  {
   "cell_type": "markdown",
   "metadata": {},
   "source": [
    "# we can find determination of any shape of matrix "
   ]
  },
  {
   "cell_type": "code",
   "execution_count": null,
   "metadata": {},
   "outputs": [],
   "source": []
  }
 ],
 "metadata": {
  "kernelspec": {
   "display_name": "Python 3",
   "language": "python",
   "name": "python3"
  },
  "language_info": {
   "codemirror_mode": {
    "name": "ipython",
    "version": 3
   },
   "file_extension": ".py",
   "mimetype": "text/x-python",
   "name": "python",
   "nbconvert_exporter": "python",
   "pygments_lexer": "ipython3",
   "version": "3.7.6"
  }
 },
 "nbformat": 4,
 "nbformat_minor": 4
}
